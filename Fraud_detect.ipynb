{
 "cells": [
  {
   "cell_type": "markdown",
   "metadata": {},
   "source": [
    "In this project, we are going to examine synthetic credit card transactions and train a model to accurately predict whether a given transaction is fraudulent."
   ]
  },
  {
   "cell_type": "code",
   "execution_count": 1,
   "metadata": {},
   "outputs": [],
   "source": [
    "%matplotlib inline\n",
    "\n",
    "import numpy as np\n",
    "import pandas as pd\n",
    "import matplotlib.pyplot as plt\n",
    "import sklearn\n",
    "import sqlite3"
   ]
  },
  {
   "cell_type": "code",
   "execution_count": 2,
   "metadata": {},
   "outputs": [],
   "source": [
    "train_data = pd.read_csv('fraudTrain.csv')"
   ]
  },
  {
   "cell_type": "code",
   "execution_count": 3,
   "metadata": {},
   "outputs": [
    {
     "data": {
      "text/html": [
       "<div>\n",
       "<style scoped>\n",
       "    .dataframe tbody tr th:only-of-type {\n",
       "        vertical-align: middle;\n",
       "    }\n",
       "\n",
       "    .dataframe tbody tr th {\n",
       "        vertical-align: top;\n",
       "    }\n",
       "\n",
       "    .dataframe thead th {\n",
       "        text-align: right;\n",
       "    }\n",
       "</style>\n",
       "<table border=\"1\" class=\"dataframe\">\n",
       "  <thead>\n",
       "    <tr style=\"text-align: right;\">\n",
       "      <th></th>\n",
       "      <th>Unnamed: 0</th>\n",
       "      <th>trans_date_trans_time</th>\n",
       "      <th>cc_num</th>\n",
       "      <th>merchant</th>\n",
       "      <th>category</th>\n",
       "      <th>amt</th>\n",
       "      <th>first</th>\n",
       "      <th>last</th>\n",
       "      <th>gender</th>\n",
       "      <th>street</th>\n",
       "      <th>...</th>\n",
       "      <th>lat</th>\n",
       "      <th>long</th>\n",
       "      <th>city_pop</th>\n",
       "      <th>job</th>\n",
       "      <th>dob</th>\n",
       "      <th>trans_num</th>\n",
       "      <th>unix_time</th>\n",
       "      <th>merch_lat</th>\n",
       "      <th>merch_long</th>\n",
       "      <th>is_fraud</th>\n",
       "    </tr>\n",
       "  </thead>\n",
       "  <tbody>\n",
       "    <tr>\n",
       "      <th>0</th>\n",
       "      <td>0</td>\n",
       "      <td>2019-01-01 00:00:18</td>\n",
       "      <td>2703186189652095</td>\n",
       "      <td>fraud_Rippin, Kub and Mann</td>\n",
       "      <td>misc_net</td>\n",
       "      <td>4.97</td>\n",
       "      <td>Jennifer</td>\n",
       "      <td>Banks</td>\n",
       "      <td>F</td>\n",
       "      <td>561 Perry Cove</td>\n",
       "      <td>...</td>\n",
       "      <td>36.0788</td>\n",
       "      <td>-81.1781</td>\n",
       "      <td>3495</td>\n",
       "      <td>Psychologist, counselling</td>\n",
       "      <td>1988-03-09</td>\n",
       "      <td>0b242abb623afc578575680df30655b9</td>\n",
       "      <td>1325376018</td>\n",
       "      <td>36.011293</td>\n",
       "      <td>-82.048315</td>\n",
       "      <td>0</td>\n",
       "    </tr>\n",
       "    <tr>\n",
       "      <th>1</th>\n",
       "      <td>1</td>\n",
       "      <td>2019-01-01 00:00:44</td>\n",
       "      <td>630423337322</td>\n",
       "      <td>fraud_Heller, Gutmann and Zieme</td>\n",
       "      <td>grocery_pos</td>\n",
       "      <td>107.23</td>\n",
       "      <td>Stephanie</td>\n",
       "      <td>Gill</td>\n",
       "      <td>F</td>\n",
       "      <td>43039 Riley Greens Suite 393</td>\n",
       "      <td>...</td>\n",
       "      <td>48.8878</td>\n",
       "      <td>-118.2105</td>\n",
       "      <td>149</td>\n",
       "      <td>Special educational needs teacher</td>\n",
       "      <td>1978-06-21</td>\n",
       "      <td>1f76529f8574734946361c461b024d99</td>\n",
       "      <td>1325376044</td>\n",
       "      <td>49.159047</td>\n",
       "      <td>-118.186462</td>\n",
       "      <td>0</td>\n",
       "    </tr>\n",
       "    <tr>\n",
       "      <th>2</th>\n",
       "      <td>2</td>\n",
       "      <td>2019-01-01 00:00:51</td>\n",
       "      <td>38859492057661</td>\n",
       "      <td>fraud_Lind-Buckridge</td>\n",
       "      <td>entertainment</td>\n",
       "      <td>220.11</td>\n",
       "      <td>Edward</td>\n",
       "      <td>Sanchez</td>\n",
       "      <td>M</td>\n",
       "      <td>594 White Dale Suite 530</td>\n",
       "      <td>...</td>\n",
       "      <td>42.1808</td>\n",
       "      <td>-112.2620</td>\n",
       "      <td>4154</td>\n",
       "      <td>Nature conservation officer</td>\n",
       "      <td>1962-01-19</td>\n",
       "      <td>a1a22d70485983eac12b5b88dad1cf95</td>\n",
       "      <td>1325376051</td>\n",
       "      <td>43.150704</td>\n",
       "      <td>-112.154481</td>\n",
       "      <td>0</td>\n",
       "    </tr>\n",
       "    <tr>\n",
       "      <th>3</th>\n",
       "      <td>3</td>\n",
       "      <td>2019-01-01 00:01:16</td>\n",
       "      <td>3534093764340240</td>\n",
       "      <td>fraud_Kutch, Hermiston and Farrell</td>\n",
       "      <td>gas_transport</td>\n",
       "      <td>45.00</td>\n",
       "      <td>Jeremy</td>\n",
       "      <td>White</td>\n",
       "      <td>M</td>\n",
       "      <td>9443 Cynthia Court Apt. 038</td>\n",
       "      <td>...</td>\n",
       "      <td>46.2306</td>\n",
       "      <td>-112.1138</td>\n",
       "      <td>1939</td>\n",
       "      <td>Patent attorney</td>\n",
       "      <td>1967-01-12</td>\n",
       "      <td>6b849c168bdad6f867558c3793159a81</td>\n",
       "      <td>1325376076</td>\n",
       "      <td>47.034331</td>\n",
       "      <td>-112.561071</td>\n",
       "      <td>0</td>\n",
       "    </tr>\n",
       "    <tr>\n",
       "      <th>4</th>\n",
       "      <td>4</td>\n",
       "      <td>2019-01-01 00:03:06</td>\n",
       "      <td>375534208663984</td>\n",
       "      <td>fraud_Keeling-Crist</td>\n",
       "      <td>misc_pos</td>\n",
       "      <td>41.96</td>\n",
       "      <td>Tyler</td>\n",
       "      <td>Garcia</td>\n",
       "      <td>M</td>\n",
       "      <td>408 Bradley Rest</td>\n",
       "      <td>...</td>\n",
       "      <td>38.4207</td>\n",
       "      <td>-79.4629</td>\n",
       "      <td>99</td>\n",
       "      <td>Dance movement psychotherapist</td>\n",
       "      <td>1986-03-28</td>\n",
       "      <td>a41d7549acf90789359a9aa5346dcb46</td>\n",
       "      <td>1325376186</td>\n",
       "      <td>38.674999</td>\n",
       "      <td>-78.632459</td>\n",
       "      <td>0</td>\n",
       "    </tr>\n",
       "  </tbody>\n",
       "</table>\n",
       "<p>5 rows × 23 columns</p>\n",
       "</div>"
      ],
      "text/plain": [
       "   Unnamed: 0 trans_date_trans_time            cc_num  \\\n",
       "0           0   2019-01-01 00:00:18  2703186189652095   \n",
       "1           1   2019-01-01 00:00:44      630423337322   \n",
       "2           2   2019-01-01 00:00:51    38859492057661   \n",
       "3           3   2019-01-01 00:01:16  3534093764340240   \n",
       "4           4   2019-01-01 00:03:06   375534208663984   \n",
       "\n",
       "                             merchant       category     amt      first  \\\n",
       "0          fraud_Rippin, Kub and Mann       misc_net    4.97   Jennifer   \n",
       "1     fraud_Heller, Gutmann and Zieme    grocery_pos  107.23  Stephanie   \n",
       "2                fraud_Lind-Buckridge  entertainment  220.11     Edward   \n",
       "3  fraud_Kutch, Hermiston and Farrell  gas_transport   45.00     Jeremy   \n",
       "4                 fraud_Keeling-Crist       misc_pos   41.96      Tyler   \n",
       "\n",
       "      last gender                        street  ...      lat      long  \\\n",
       "0    Banks      F                561 Perry Cove  ...  36.0788  -81.1781   \n",
       "1     Gill      F  43039 Riley Greens Suite 393  ...  48.8878 -118.2105   \n",
       "2  Sanchez      M      594 White Dale Suite 530  ...  42.1808 -112.2620   \n",
       "3    White      M   9443 Cynthia Court Apt. 038  ...  46.2306 -112.1138   \n",
       "4   Garcia      M              408 Bradley Rest  ...  38.4207  -79.4629   \n",
       "\n",
       "   city_pop                                job         dob  \\\n",
       "0      3495          Psychologist, counselling  1988-03-09   \n",
       "1       149  Special educational needs teacher  1978-06-21   \n",
       "2      4154        Nature conservation officer  1962-01-19   \n",
       "3      1939                    Patent attorney  1967-01-12   \n",
       "4        99     Dance movement psychotherapist  1986-03-28   \n",
       "\n",
       "                          trans_num   unix_time  merch_lat  merch_long  \\\n",
       "0  0b242abb623afc578575680df30655b9  1325376018  36.011293  -82.048315   \n",
       "1  1f76529f8574734946361c461b024d99  1325376044  49.159047 -118.186462   \n",
       "2  a1a22d70485983eac12b5b88dad1cf95  1325376051  43.150704 -112.154481   \n",
       "3  6b849c168bdad6f867558c3793159a81  1325376076  47.034331 -112.561071   \n",
       "4  a41d7549acf90789359a9aa5346dcb46  1325376186  38.674999  -78.632459   \n",
       "\n",
       "   is_fraud  \n",
       "0         0  \n",
       "1         0  \n",
       "2         0  \n",
       "3         0  \n",
       "4         0  \n",
       "\n",
       "[5 rows x 23 columns]"
      ]
     },
     "execution_count": 3,
     "metadata": {},
     "output_type": "execute_result"
    }
   ],
   "source": [
    "train_data.head()"
   ]
  },
  {
   "cell_type": "code",
   "execution_count": 4,
   "metadata": {},
   "outputs": [
    {
     "data": {
      "text/plain": [
       "is_fraud\n",
       "0    1289169\n",
       "1       7506\n",
       "dtype: int64"
      ]
     },
     "execution_count": 4,
     "metadata": {},
     "output_type": "execute_result"
    }
   ],
   "source": [
    "train_data.groupby(['is_fraud']).size()"
   ]
  },
  {
   "cell_type": "markdown",
   "metadata": {},
   "source": [
    "This is a highly imbalanced dataset, with non-fraud data being more than 180 times of the fraud ones. On the other hand, reducing false negative rate is very important due to the business context. We will need to address it.\n",
    "\n",
    "First of all, let's quickly build a logistic regression model and see where we can go after that."
   ]
  },
  {
   "cell_type": "code",
   "execution_count": 5,
   "metadata": {},
   "outputs": [],
   "source": [
    "train_data.drop(columns = ['Unnamed: 0', 'trans_date_trans_time', 'cc_num',\n",
    "       'first', 'last', 'street', 'city', 'state', 'dob',\n",
    "       'trans_num'],inplace = True)"
   ]
  },
  {
   "cell_type": "code",
   "execution_count": 6,
   "metadata": {},
   "outputs": [
    {
     "data": {
      "text/plain": [
       "Index(['merchant', 'category', 'amt', 'gender', 'zip', 'lat', 'long',\n",
       "       'city_pop', 'job', 'unix_time', 'merch_lat', 'merch_long', 'is_fraud'],\n",
       "      dtype='object')"
      ]
     },
     "execution_count": 6,
     "metadata": {},
     "output_type": "execute_result"
    }
   ],
   "source": [
    "train_data.columns"
   ]
  },
  {
   "cell_type": "markdown",
   "metadata": {},
   "source": [
    "We will convert the categorical variables with one-hot encodings. There will be a huge amount of variables, but let's not worry about that for now."
   ]
  },
  {
   "cell_type": "code",
   "execution_count": 7,
   "metadata": {},
   "outputs": [],
   "source": [
    "def one_hot_convert(df, columns):\n",
    "    \n",
    "    for Col in columns:\n",
    "        df = pd.concat([df, pd.get_dummies(train_data[Col], prefix = Col)], axis = 1)\n",
    "    \n",
    "    df.drop(columns = columns, inplace = True)\n",
    "    \n",
    "    return df"
   ]
  },
  {
   "cell_type": "code",
   "execution_count": 8,
   "metadata": {},
   "outputs": [],
   "source": [
    "Cat_columns = ['merchant', 'category', 'gender','job']\n",
    "\n",
    "train_data = one_hot_convert(train_data, Cat_columns)"
   ]
  },
  {
   "cell_type": "code",
   "execution_count": 9,
   "metadata": {},
   "outputs": [],
   "source": [
    "from sklearn.linear_model import LogisticRegression\n",
    "from sklearn.svm import SVC\n",
    "from sklearn.preprocessing import normalize\n",
    "from sklearn.preprocessing import StandardScaler\n",
    "from sklearn.model_selection import train_test_split\n",
    "from sklearn.model_selection import cross_validate\n",
    "from sklearn.metrics import confusion_matrix"
   ]
  },
  {
   "cell_type": "markdown",
   "metadata": {},
   "source": [
    "The dataset is too big (1.16M-by-1211, resulting in 10.5GiB) to train if we use one-hot encoding without any restraint. There are several ways to solve it. We can decrease the precision, or we can choose fewer samples to begin with.\n",
    "\n",
    "I should also create a new column calculating the distance between the cardholder's address and the merchant's.\n"
   ]
  },
  {
   "cell_type": "code",
   "execution_count": 10,
   "metadata": {},
   "outputs": [],
   "source": [
    "df_Fraud = train_data[train_data['is_fraud'] == 1]\n",
    "df_Non_fraud = train_data[train_data['is_fraud'] == 0]"
   ]
  },
  {
   "cell_type": "code",
   "execution_count": 12,
   "metadata": {},
   "outputs": [
    {
     "data": {
      "text/plain": [
       "(1281663, 1212)"
      ]
     },
     "execution_count": 12,
     "metadata": {},
     "output_type": "execute_result"
    }
   ],
   "source": [
    "n = df_Fraud.shape[0]\n",
    "\n",
    "df_Non_fraud = df_Non_fraud.sample(n=n)\n",
    "\n",
    "df_Non_fraud.shape\n",
    "\n",
    "df_rest = train_data[train_data['is_fraud'] == 0].drop(df_Non_fraud.index)\n",
    "\n",
    "df_rest.shape"
   ]
  },
  {
   "cell_type": "code",
   "execution_count": 11,
   "metadata": {},
   "outputs": [
    {
     "data": {
      "text/plain": [
       "(15012, 1212)"
      ]
     },
     "execution_count": 11,
     "metadata": {},
     "output_type": "execute_result"
    }
   ],
   "source": [
    "little_dataset = pd.concat([df_Fraud,df_Non_fraud], axis = 0)\n",
    "little_dataset = little_dataset.sample(frac = 1)\n",
    "little_dataset.shape"
   ]
  },
  {
   "cell_type": "code",
   "execution_count": 72,
   "metadata": {},
   "outputs": [
    {
     "data": {
      "text/plain": [
       "LogisticRegression(max_iter=1000)"
      ]
     },
     "execution_count": 72,
     "metadata": {},
     "output_type": "execute_result"
    }
   ],
   "source": [
    "X = little_dataset.copy()\n",
    "Y = little_dataset['is_fraud']\n",
    "X.drop(columns = ['is_fraud'], inplace = True)\n",
    "\n",
    "scaler = StandardScaler()\n",
    "scaler.fit(X)\n",
    "\n",
    "X = scaler.transform(X)\n",
    "\n",
    "\n",
    "X_train, X_test, y_train, y_test = train_test_split(X, Y, test_size=0.10, random_state=42)\n",
    "LR = LogisticRegression(max_iter = 1000)\n",
    "\n",
    "LR.fit(X_train,y_train)"
   ]
  },
  {
   "cell_type": "code",
   "execution_count": 73,
   "metadata": {},
   "outputs": [
    {
     "data": {
      "text/plain": [
       "0.8275632490013316"
      ]
     },
     "execution_count": 73,
     "metadata": {},
     "output_type": "execute_result"
    }
   ],
   "source": [
    "LR.score(X_test, y_test)"
   ]
  },
  {
   "cell_type": "code",
   "execution_count": 46,
   "metadata": {},
   "outputs": [
    {
     "data": {
      "text/plain": [
       "array([[675, 157],\n",
       "       [107, 563]], dtype=int64)"
      ]
     },
     "execution_count": 46,
     "metadata": {},
     "output_type": "execute_result"
    }
   ],
   "source": [
    "y_pred = LR.predict(X_test)\n",
    "\n",
    "confusion_matrix(y_pred,y_test)"
   ]
  },
  {
   "cell_type": "code",
   "execution_count": 47,
   "metadata": {},
   "outputs": [
    {
     "data": {
      "text/plain": [
       "0.8729089563286454"
      ]
     },
     "execution_count": 47,
     "metadata": {},
     "output_type": "execute_result"
    }
   ],
   "source": [
    "LR.score(X_train,y_train)"
   ]
  },
  {
   "cell_type": "markdown",
   "metadata": {},
   "source": [
    "Using logistic regression, the fitted model predicts horribly, even for the training set. The confusion matrix shows that most predictions are flagged as non-fraud. It suggests that it is hard to describe the final prediction with linear hyperplanes."
   ]
  },
  {
   "cell_type": "code",
   "execution_count": 74,
   "metadata": {},
   "outputs": [],
   "source": [
    "little_dataset['distance'] = np.sqrt(np.power(little_dataset['lat']- little_dataset['merch_lat'],2) + np.power(little_dataset['long']- little_dataset['merch_long'],2) )\n",
    "little_dataset = little_dataset.sample(frac= 1)"
   ]
  },
  {
   "cell_type": "code",
   "execution_count": 12,
   "metadata": {},
   "outputs": [
    {
     "data": {
      "text/plain": [
       "0.4986684420772304"
      ]
     },
     "execution_count": 12,
     "metadata": {},
     "output_type": "execute_result"
    }
   ],
   "source": [
    "X = little_dataset.copy()\n",
    "Y = little_dataset['is_fraud']\n",
    "X.drop(columns = ['is_fraud'], inplace = True)\n",
    "\n",
    "X_train, X_test, y_train, y_test = train_test_split(X, Y, test_size=0.10, random_state=42)\n",
    "LR = LogisticRegression()\n",
    "\n",
    "LR.fit(X_train,y_train)\n",
    "LR.score(X_test, y_test)"
   ]
  },
  {
   "cell_type": "code",
   "execution_count": 50,
   "metadata": {},
   "outputs": [
    {
     "data": {
      "text/plain": [
       "array([[736, 766],\n",
       "       [  0,   0]], dtype=int64)"
      ]
     },
     "execution_count": 50,
     "metadata": {},
     "output_type": "execute_result"
    }
   ],
   "source": [
    "y_pred = LR.predict(X_test)\n",
    "\n",
    "confusion_matrix(y_pred,y_test)"
   ]
  },
  {
   "cell_type": "code",
   "execution_count": 13,
   "metadata": {},
   "outputs": [
    {
     "data": {
      "text/plain": [
       "0.8215712383488681"
      ]
     },
     "execution_count": 13,
     "metadata": {},
     "output_type": "execute_result"
    }
   ],
   "source": [
    "scaler = StandardScaler()\n",
    "scaler.fit(X)\n",
    "\n",
    "X = scaler.transform(X)\n",
    "\n",
    "X_train, X_test, y_train, y_test = train_test_split(X, Y, test_size=0.10, random_state=42)\n",
    "LR = LogisticRegression(max_iter =500)\n",
    "\n",
    "LR.fit(X_train,y_train)\n",
    "LR.score(X_test, y_test)"
   ]
  },
  {
   "cell_type": "code",
   "execution_count": 105,
   "metadata": {},
   "outputs": [
    {
     "data": {
      "text/plain": [
       "array([[619, 127],\n",
       "       [141, 615]], dtype=int64)"
      ]
     },
     "execution_count": 105,
     "metadata": {},
     "output_type": "execute_result"
    }
   ],
   "source": [
    "y_pred = LR.predict(X_test)\n",
    "\n",
    "confusion_matrix(y_test, y_pred)"
   ]
  },
  {
   "cell_type": "markdown",
   "metadata": {},
   "source": [
    "I tried to use SVM to fit the data, but the process just takes too long. According to the documentation, it scales at least quadratically with respect to the number of samples and is impractical beyond tens of thousands of them. Our little dataset is right on the cusp, so I can see why things are not great here. Instead, we can either use the linear SVM or other models.\n",
    "\n",
    "```python\n",
    "svm = SVC()\n",
    "svm.fit(X_train,y_train)\n",
    "svm.score(X_test, y_test)\n",
    "```"
   ]
  },
  {
   "cell_type": "markdown",
   "metadata": {},
   "source": [
    "Let's first try to visualize our dataset a little bit. We can plot out the scatter plot of (amount, distance from cardholder address) and see if there are some relations we can exploit."
   ]
  },
  {
   "cell_type": "code",
   "execution_count": 80,
   "metadata": {},
   "outputs": [],
   "source": [
    "scatter_df = little_dataset[['amt','distance','is_fraud']]"
   ]
  },
  {
   "cell_type": "code",
   "execution_count": 82,
   "metadata": {},
   "outputs": [
    {
     "data": {
      "text/plain": [
       "<matplotlib.collections.PathCollection at 0x2283c365850>"
      ]
     },
     "execution_count": 82,
     "metadata": {},
     "output_type": "execute_result"
    },
    {
     "data": {
      "image/png": "[encoded data removed]",
      "text/plain": [
       "<Figure size 432x288 with 1 Axes>"
      ]
     },
     "metadata": {
      "needs_background": "light"
     },
     "output_type": "display_data"
    }
   ],
   "source": [
    "colors = ['red' if tag == 1 else 'green' for tag in scatter_df['is_fraud']]\n",
    "\n",
    "plt.scatter(scatter_df['amt'], scatter_df['distance'], c = colors)"
   ]
  },
  {
   "cell_type": "markdown",
   "metadata": {},
   "source": [
    "It looks like it is hard to make out whether the transaction is fraudulent from the distance. Interestingly, the very high transaction amount correlates to genuine transactions."
   ]
  },
  {
   "cell_type": "code",
   "execution_count": 15,
   "metadata": {},
   "outputs": [
    {
     "data": {
      "text/plain": [
       "['job_Academic librarian',\n",
       " 'job_Accountant, chartered',\n",
       " 'job_Accountant, chartered certified',\n",
       " 'job_Accountant, chartered public finance',\n",
       " 'job_Accounting technician']"
      ]
     },
     "execution_count": 15,
     "metadata": {},
     "output_type": "execute_result"
    }
   ],
   "source": [
    "job_col = [col for col in little_dataset.columns if 'job' in col]\n",
    "job_col[:5]"
   ]
  },
  {
   "cell_type": "code",
   "execution_count": 30,
   "metadata": {},
   "outputs": [
    {
     "data": {
      "text/html": [
       "<div>\n",
       "<style scoped>\n",
       "    .dataframe tbody tr th:only-of-type {\n",
       "        vertical-align: middle;\n",
       "    }\n",
       "\n",
       "    .dataframe tbody tr th {\n",
       "        vertical-align: top;\n",
       "    }\n",
       "\n",
       "    .dataframe thead th {\n",
       "        text-align: right;\n",
       "    }\n",
       "</style>\n",
       "<table border=\"1\" class=\"dataframe\">\n",
       "  <thead>\n",
       "    <tr style=\"text-align: right;\">\n",
       "      <th></th>\n",
       "      <th>job</th>\n",
       "      <th>is_fraud</th>\n",
       "    </tr>\n",
       "  </thead>\n",
       "  <tbody>\n",
       "    <tr>\n",
       "      <th>0</th>\n",
       "      <td>Psychologist, counselling</td>\n",
       "      <td>0</td>\n",
       "    </tr>\n",
       "    <tr>\n",
       "      <th>1</th>\n",
       "      <td>Special educational needs teacher</td>\n",
       "      <td>0</td>\n",
       "    </tr>\n",
       "    <tr>\n",
       "      <th>2</th>\n",
       "      <td>Nature conservation officer</td>\n",
       "      <td>0</td>\n",
       "    </tr>\n",
       "    <tr>\n",
       "      <th>3</th>\n",
       "      <td>Patent attorney</td>\n",
       "      <td>0</td>\n",
       "    </tr>\n",
       "    <tr>\n",
       "      <th>4</th>\n",
       "      <td>Dance movement psychotherapist</td>\n",
       "      <td>0</td>\n",
       "    </tr>\n",
       "  </tbody>\n",
       "</table>\n",
       "</div>"
      ],
      "text/plain": [
       "                                 job  is_fraud\n",
       "0          Psychologist, counselling         0\n",
       "1  Special educational needs teacher         0\n",
       "2        Nature conservation officer         0\n",
       "3                    Patent attorney         0\n",
       "4     Dance movement psychotherapist         0"
      ]
     },
     "execution_count": 30,
     "metadata": {},
     "output_type": "execute_result"
    }
   ],
   "source": [
    "new_train_data = pd.read_csv('fraudTrain.csv')\n",
    "\n",
    "job_analysis = new_train_data[['job','is_fraud']]\n",
    "\n",
    "job_analysis.head()"
   ]
  },
  {
   "cell_type": "code",
   "execution_count": 20,
   "metadata": {},
   "outputs": [],
   "source": [
    "job_df = job_analysis.groupby(['job']).mean()"
   ]
  },
  {
   "cell_type": "code",
   "execution_count": 27,
   "metadata": {},
   "outputs": [],
   "source": [
    "trimmed_job_df = job_df[job_analysis.groupby(['job']).count()>50]"
   ]
  },
  {
   "cell_type": "code",
   "execution_count": 28,
   "metadata": {},
   "outputs": [
    {
     "data": {
      "text/plain": [
       "[<matplotlib.lines.Line2D at 0x21ab464f5e0>]"
      ]
     },
     "execution_count": 28,
     "metadata": {},
     "output_type": "execute_result"
    },
    {
     "data": {
      "image/png": "[encoded data removed]",
      "text/plain": [
       "<Figure size 432x288 with 1 Axes>"
      ]
     },
     "metadata": {
      "needs_background": "light"
     },
     "output_type": "display_data"
    }
   ],
   "source": [
    "plt.plot(trimmed_job_df)"
   ]
  },
  {
   "cell_type": "markdown",
   "metadata": {},
   "source": [
    "Here, we write a function to observe the influence of one single categorical variable on determining whether the transaction is fraudulent."
   ]
  },
  {
   "cell_type": "code",
   "execution_count": 31,
   "metadata": {},
   "outputs": [],
   "source": [
    "def check_category_correlation(df, col, threshold = None):\n",
    "    col_df = df[[col,'is_fraud']]\n",
    "    col_analysis = col_df.groupby([col]).mean()\n",
    "    if threshold and type(threshold) == int:\n",
    "        col_analysis = col_analysis[col_df.groupby([col]).count() > threshold]\n",
    "    plt.plot(col_analysis)"
   ]
  },
  {
   "cell_type": "code",
   "execution_count": 37,
   "metadata": {},
   "outputs": [
    {
     "data": {
      "image/png": "[encoded data removed]",
      "text/plain": [
       "<Figure size 432x288 with 1 Axes>"
      ]
     },
     "metadata": {
      "needs_background": "light"
     },
     "output_type": "display_data"
    }
   ],
   "source": [
    "check_category_correlation(new_train_data, 'zip', threshold = 50)"
   ]
  },
  {
   "cell_type": "code",
   "execution_count": 38,
   "metadata": {},
   "outputs": [],
   "source": [
    "from sklearn.metrics import roc_curve"
   ]
  },
  {
   "cell_type": "markdown",
   "metadata": {},
   "source": [
    "We compute the ROC curve for logistic regression. By default, it plots the false positive rate against the true positive rate. Perhaps we should plot the true negative and false negative rate."
   ]
  },
  {
   "cell_type": "code",
   "execution_count": 49,
   "metadata": {},
   "outputs": [],
   "source": [
    "y_proba = LR.predict_proba(X_test)\n",
    "\n",
    "fpr, tpr, thresholds = roc_curve(y_test, y_proba[:,1])"
   ]
  },
  {
   "cell_type": "code",
   "execution_count": 68,
   "metadata": {},
   "outputs": [
    {
     "name": "stdout",
     "output_type": "stream",
     "text": [
      "<class 'numpy.ndarray'>\n"
     ]
    },
    {
     "data": {
      "text/plain": [
       "<matplotlib.collections.PathCollection at 0x21b2db54850>"
      ]
     },
     "execution_count": 68,
     "metadata": {},
     "output_type": "execute_result"
    },
    {
     "data": {
      "image/png": "[encoded data removed]",
      "text/plain": [
       "<Figure size 432x288 with 1 Axes>"
      ]
     },
     "metadata": {
      "needs_background": "light"
     },
     "output_type": "display_data"
    }
   ],
   "source": [
    "plt.scatter(fpr, tpr)"
   ]
  },
  {
   "cell_type": "code",
   "execution_count": 73,
   "metadata": {},
   "outputs": [],
   "source": [
    "tnr, fnr = 1-fpr, 1-tpr"
   ]
  },
  {
   "cell_type": "code",
   "execution_count": 78,
   "metadata": {},
   "outputs": [
    {
     "data": {
      "text/plain": [
       "<matplotlib.collections.PathCollection at 0x21b2b1f38e0>"
      ]
     },
     "execution_count": 78,
     "metadata": {},
     "output_type": "execute_result"
    },
    {
     "data": {
      "image/png": "[encoded data removed]",
      "text/plain": [
       "<Figure size 432x288 with 1 Axes>"
      ]
     },
     "metadata": {
      "needs_background": "light"
     },
     "output_type": "display_data"
    }
   ],
   "source": [
    "plt.scatter(fnr, tnr)\n",
    "\n",
    "#plt.plot([0,0], [1,1], 'k-', color = 'r')"
   ]
  },
  {
   "cell_type": "markdown",
   "metadata": {},
   "source": [
    "For what we care about (low false negative rate), logistic regression is not that good, as it climbs relatively slowly in the beginning."
   ]
  },
  {
   "cell_type": "code",
   "execution_count": 81,
   "metadata": {},
   "outputs": [],
   "source": [
    "feature_col = list(little_dataset.columns)\n",
    "feature_col.remove('is_fraud')\n",
    "\n",
    "rankings_LR = sorted(zip(feature_col, LR.coef_.reshape(1211)),key= lambda x: abs(x[1]), reverse = True)"
   ]
  },
  {
   "cell_type": "code",
   "execution_count": 82,
   "metadata": {},
   "outputs": [
    {
     "data": {
      "text/plain": [
       "[('amt', 4.910995034291404),\n",
       " ('category_shopping_net', -1.2528353122880749),\n",
       " ('merchant_fraud_Ritchie, Bradtke and Stiedemann', -1.2163465376722709),\n",
       " ('category_personal_care', 0.783347681555894),\n",
       " ('category_shopping_pos', -0.5014025096429848),\n",
       " ('job_Museum education officer', 0.49313328426450187),\n",
       " ('category_gas_transport', 0.422631911765152),\n",
       " ('category_misc_pos', 0.41732220549958726),\n",
       " ('job_Surveyor, rural practice', -0.4039316535273326),\n",
       " ('job_Water engineer', -0.3623022884909591)]"
      ]
     },
     "execution_count": 82,
     "metadata": {},
     "output_type": "execute_result"
    }
   ],
   "source": [
    "rankings_LR[:10]"
   ]
  },
  {
   "cell_type": "code",
   "execution_count": 145,
   "metadata": {},
   "outputs": [
    {
     "data": {
      "text/plain": [
       "DecisionTreeClassifier(max_depth=20)"
      ]
     },
     "execution_count": 145,
     "metadata": {},
     "output_type": "execute_result"
    }
   ],
   "source": [
    "from sklearn.tree import DecisionTreeClassifier\n",
    "from sklearn import tree\n",
    "DTC = DecisionTreeClassifier(max_depth = 20)\n",
    "\n",
    "DTC.fit(X_train, y_train)\n"
   ]
  },
  {
   "cell_type": "code",
   "execution_count": 138,
   "metadata": {},
   "outputs": [
    {
     "data": {
      "text/plain": [
       "0.9640479360852197"
      ]
     },
     "execution_count": 138,
     "metadata": {},
     "output_type": "execute_result"
    }
   ],
   "source": [
    "DTC.score(X_test,y_test)"
   ]
  },
  {
   "cell_type": "code",
   "execution_count": 136,
   "metadata": {},
   "outputs": [
    {
     "data": {
      "text/plain": [
       "array([[713,  33],\n",
       "       [ 26, 730]], dtype=int64)"
      ]
     },
     "execution_count": 136,
     "metadata": {},
     "output_type": "execute_result"
    }
   ],
   "source": [
    "y_pred_DTC = DTC.predict(X_test)\n",
    "\n",
    "confusion_matrix(y_test,y_pred_DTC)"
   ]
  },
  {
   "cell_type": "code",
   "execution_count": 115,
   "metadata": {},
   "outputs": [],
   "source": [
    "def random_testing(df, frac, model):\n",
    "    smaller = df.sample(frac = frac)\n",
    "    smaller_X = smaller.drop(columns = ['is_fraud'])\n",
    "    smaller_Y = smaller[['is_fraud']]\n",
    "    smaller_X_transformed = scaler.transform(smaller_X)\n",
    "    \n",
    "    print(model.score(smaller_X_transformed, smaller_Y))\n",
    "    \n",
    "    Y_predict = model.predict(smaller_X_transformed)\n",
    "    \n",
    "    print(confusion_matrix(smaller_Y, Y_predict))\n",
    "    \n",
    "    \n",
    "    y_proba = model.predict_proba(smaller_X_transformed)\n",
    "    \n",
    "    fpr, tpr, thresholds = roc_curve(smaller_Y, y_proba[:,1])\n",
    "    \n",
    "    plt.scatter(1-tpr, 1-fpr)\n",
    "    \n"
   ]
  },
  {
   "cell_type": "code",
   "execution_count": 130,
   "metadata": {},
   "outputs": [
    {
     "name": "stdout",
     "output_type": "stream",
     "text": [
      "0.8414489311163895\n",
      "[[108464  20449]\n",
      " [   110    645]]\n"
     ]
    },
    {
     "data": {
      "image/png": "[encoded data removed]",
      "text/plain": [
       "<Figure size 432x288 with 1 Axes>"
      ]
     },
     "metadata": {
      "needs_background": "light"
     },
     "output_type": "display_data"
    }
   ],
   "source": [
    "random_testing(train_data, 0.1, LR)"
   ]
  },
  {
   "cell_type": "code",
   "execution_count": 140,
   "metadata": {},
   "outputs": [
    {
     "name": "stdout",
     "output_type": "stream",
     "text": [
      "0.9506663170558658\n",
      "[[122581   6397]\n",
      " [     0    690]]\n"
     ]
    },
    {
     "data": {
      "image/png": "[encoded data removed]",
      "text/plain": [
       "<Figure size 432x288 with 1 Axes>"
      ]
     },
     "metadata": {
      "needs_background": "light"
     },
     "output_type": "display_data"
    }
   ],
   "source": [
    "random_testing(train_data, 0.1, DTC)"
   ]
  },
  {
   "cell_type": "markdown",
   "metadata": {},
   "source": [
    "From the confusion matrix above, we can see that when the dataset is imbalanced, the false negative rate is fine, but the number of flagged transactions are perhaps a bit high. Can we do a pipeline to re-evaluate those flagged transactions?\n",
    "\n",
    "Also, it is possible that the very low false negative rate happens because we have already trained on most of the fraud data. Perhaps we should re-consider our random testing method. I have extracted the df_rest from the remaining non-fraud data. We should iteratively test all data and use the confusion matrix to sum up all the results. All the fraud entries are already in the test set, so we should utilize that."
   ]
  },
  {
   "cell_type": "code",
   "execution_count": 148,
   "metadata": {},
   "outputs": [
    {
     "data": {
      "text/plain": [
       "[('amt', 0.7324315644664732),\n",
       " ('category_gas_transport', 0.08057419546461565),\n",
       " ('category_grocery_net', 0.02375913780783269),\n",
       " ('category_travel', 0.015594658164946066),\n",
       " ('category_home', 0.014784477717247347),\n",
       " ('category_food_dining', 0.014418878834217535),\n",
       " ('category_misc_pos', 0.013018883694656631),\n",
       " ('city_pop', 0.010497054440302642),\n",
       " ('unix_time', 0.009884335727756141),\n",
       " ('category_shopping_net', 0.008190842344716434)]"
      ]
     },
     "execution_count": 148,
     "metadata": {},
     "output_type": "execute_result"
    }
   ],
   "source": [
    "rankings_DTC = sorted(zip(feature_col, DTC.feature_importances_.reshape(1211)),key= lambda x: abs(x[1]), reverse = True)\n",
    "\n",
    "rankings_DTC[:10]"
   ]
  },
  {
   "cell_type": "code",
   "execution_count": 146,
   "metadata": {},
   "outputs": [
    {
     "data": {
      "text/plain": [
       "[Text(261.26518250857424, 212.26285714285714, 'X[0] <= -0.166\\ngini = 0.5\\nsamples = 13510\\nvalue = [6760, 6750]'),\n",
       " Text(206.384474522293, 201.90857142857143, 'X[0] <= -0.734\\ngini = 0.322\\nsamples = 8252\\nvalue = [6585, 1667]'),\n",
       " Text(146.3519720725135, 191.5542857142857, 'X[703] <= 1.412\\ngini = 0.461\\nsamples = 3883\\nvalue = [2485, 1398]'),\n",
       " Text(145.03967417932387, 181.2, 'X[0] <= -0.755\\ngini = 0.378\\nsamples = 3326\\nvalue = [2485, 841]'),\n",
       " Text(101.3750122488976, 170.84571428571428, 'X[704] <= 2.939\\ngini = 0.263\\nsamples = 2571\\nvalue = [2171, 400]'),\n",
       " Text(81.362469377756, 160.49142857142857, 'X[710] <= 2.126\\ngini = 0.209\\nsamples = 2458\\nvalue = [2167, 291]'),\n",
       " Text(51.835766780989715, 150.13714285714286, 'X[714] <= 3.292\\ngini = 0.137\\nsamples = 2089\\nvalue = [1934, 155]'),\n",
       " Text(23.621362077413032, 139.78285714285715, 'X[708] <= 1.851\\ngini = 0.054\\nsamples = 1831\\nvalue = [1780, 51]'),\n",
       " Text(15.419500244977952, 129.42857142857144, 'X[1149] <= 11.758\\ngini = 0.011\\nsamples = 1656\\nvalue = [1647, 9]'),\n",
       " Text(11.15453209211171, 119.07428571428571, 'X[0] <= -0.758\\ngini = 0.007\\nsamples = 1651\\nvalue = [1645, 6]'),\n",
       " Text(6.561489465948065, 108.72, 'X[698] <= 16.35\\ngini = 0.002\\nsamples = 1623\\nvalue = [1621, 2]'),\n",
       " Text(3.936893679568839, 98.36571428571429, 'X[6] <= -3.637\\ngini = 0.001\\nsamples = 1621\\nvalue = [1620, 1]'),\n",
       " Text(2.624595786379226, 88.01142857142858, 'X[628] <= 16.35\\ngini = 0.5\\nsamples = 2\\nvalue = [1, 1]'),\n",
       " Text(1.312297893189613, 77.65714285714284, 'gini = 0.0\\nsamples = 1\\nvalue = [1, 0]'),\n",
       " Text(3.936893679568839, 77.65714285714284, 'gini = 0.0\\nsamples = 1\\nvalue = [0, 1]'),\n",
       " Text(5.249191572758452, 88.01142857142858, 'gini = 0.0\\nsamples = 1619\\nvalue = [1619, 0]'),\n",
       " Text(9.186085252327292, 98.36571428571429, 'X[1] <= -0.414\\ngini = 0.5\\nsamples = 2\\nvalue = [1, 1]'),\n",
       " Text(7.873787359137678, 88.01142857142858, 'gini = 0.0\\nsamples = 1\\nvalue = [1, 0]'),\n",
       " Text(10.498383145516904, 88.01142857142858, 'gini = 0.0\\nsamples = 1\\nvalue = [0, 1]'),\n",
       " Text(15.747574718275356, 108.72, 'X[661] <= 14.833\\ngini = 0.245\\nsamples = 28\\nvalue = [24, 4]'),\n",
       " Text(14.435276825085744, 98.36571428571429, 'X[1023] <= 8.141\\ngini = 0.198\\nsamples = 27\\nvalue = [24, 3]'),\n",
       " Text(13.12297893189613, 88.01142857142858, 'X[1169] <= 11.545\\ngini = 0.142\\nsamples = 26\\nvalue = [24, 2]'),\n",
       " Text(11.810681038706516, 77.65714285714284, 'X[762] <= 8.37\\ngini = 0.077\\nsamples = 25\\nvalue = [24, 1]'),\n",
       " Text(10.498383145516904, 67.30285714285714, 'gini = 0.0\\nsamples = 24\\nvalue = [24, 0]'),\n",
       " Text(13.12297893189613, 67.30285714285714, 'gini = 0.0\\nsamples = 1\\nvalue = [0, 1]'),\n",
       " Text(14.435276825085744, 77.65714285714284, 'gini = 0.0\\nsamples = 1\\nvalue = [0, 1]'),\n",
       " Text(15.747574718275356, 88.01142857142858, 'gini = 0.0\\nsamples = 1\\nvalue = [0, 1]'),\n",
       " Text(17.059872611464968, 98.36571428571429, 'gini = 0.0\\nsamples = 1\\nvalue = [0, 1]'),\n",
       " Text(19.684468397844196, 119.07428571428571, 'X[0] <= -0.774\\ngini = 0.48\\nsamples = 5\\nvalue = [2, 3]'),\n",
       " Text(18.372170504654584, 108.72, 'gini = 0.0\\nsamples = 2\\nvalue = [2, 0]'),\n",
       " Text(20.996766291033808, 108.72, 'gini = 0.0\\nsamples = 3\\nvalue = [0, 3]'),\n",
       " Text(31.823223909848114, 129.42857142857144, 'X[5] <= -1.569\\ngini = 0.365\\nsamples = 175\\nvalue = [133, 42]'),\n",
       " Text(24.933659970602648, 119.07428571428571, 'X[5] <= -1.66\\ngini = 0.42\\nsamples = 10\\nvalue = [3, 7]'),\n",
       " Text(23.621362077413032, 108.72, 'X[0] <= -0.787\\ngini = 0.375\\nsamples = 4\\nvalue = [3, 1]'),\n",
       " Text(22.30906418422342, 98.36571428571429, 'gini = 0.0\\nsamples = 1\\nvalue = [0, 1]'),\n",
       " Text(24.933659970602648, 98.36571428571429, 'gini = 0.0\\nsamples = 3\\nvalue = [3, 0]'),\n",
       " Text(26.24595786379226, 108.72, 'gini = 0.0\\nsamples = 6\\nvalue = [0, 6]'),\n",
       " Text(38.71278784909358, 119.07428571428571, 'X[0] <= -0.78\\ngini = 0.334\\nsamples = 165\\nvalue = [130, 35]'),\n",
       " Text(28.870553650171487, 108.72, 'X[4] <= -0.288\\ngini = 0.447\\nsamples = 74\\nvalue = [49, 25]'),\n",
       " Text(27.558255756981872, 98.36571428571429, 'X[715] <= -0.042\\ngini = 0.492\\nsamples = 57\\nvalue = [32, 25]'),\n",
       " Text(20.996766291033808, 88.01142857142858, 'X[6] <= 0.202\\ngini = 0.444\\nsamples = 21\\nvalue = [7, 14]'),\n",
       " Text(18.372170504654584, 77.65714285714284, 'X[5] <= 1.462\\ngini = 0.18\\nsamples = 10\\nvalue = [1, 9]'),\n",
       " Text(17.059872611464968, 67.30285714285714, 'gini = 0.0\\nsamples = 9\\nvalue = [0, 9]'),\n",
       " Text(19.684468397844196, 67.30285714285714, 'gini = 0.0\\nsamples = 1\\nvalue = [1, 0]'),\n",
       " Text(23.621362077413032, 77.65714285714284, 'X[6] <= 0.362\\ngini = 0.496\\nsamples = 11\\nvalue = [6, 5]'),\n",
       " Text(22.30906418422342, 67.30285714285714, 'gini = 0.0\\nsamples = 3\\nvalue = [3, 0]'),\n",
       " Text(24.933659970602648, 67.30285714285714, 'X[1085] <= 11.343\\ngini = 0.469\\nsamples = 8\\nvalue = [3, 5]'),\n",
       " Text(23.621362077413032, 56.94857142857143, 'X[6] <= 1.5\\ngini = 0.408\\nsamples = 7\\nvalue = [2, 5]'),\n",
       " Text(22.30906418422342, 46.59428571428572, 'X[404] <= 16.35\\ngini = 0.278\\nsamples = 6\\nvalue = [1, 5]'),\n",
       " Text(20.996766291033808, 36.24000000000001, 'gini = 0.0\\nsamples = 5\\nvalue = [0, 5]'),\n",
       " Text(23.621362077413032, 36.24000000000001, 'gini = 0.0\\nsamples = 1\\nvalue = [1, 0]'),\n",
       " Text(24.933659970602648, 46.59428571428572, 'gini = 0.0\\nsamples = 1\\nvalue = [1, 0]'),\n",
       " Text(26.24595786379226, 56.94857142857143, 'gini = 0.0\\nsamples = 1\\nvalue = [1, 0]'),\n",
       " Text(34.119745222929936, 88.01142857142858, 'X[5] <= -0.462\\ngini = 0.424\\nsamples = 36\\nvalue = [25, 11]'),\n",
       " Text(31.49514943655071, 77.65714285714284, 'X[0] <= -0.789\\ngini = 0.463\\nsamples = 11\\nvalue = [4, 7]'),\n",
       " Text(30.1828515433611, 67.30285714285714, 'X[7] <= -0.05\\ngini = 0.444\\nsamples = 6\\nvalue = [4, 2]'),\n",
       " Text(28.870553650171487, 56.94857142857143, 'gini = 0.0\\nsamples = 2\\nvalue = [0, 2]'),\n",
       " Text(31.49514943655071, 56.94857142857143, 'gini = 0.0\\nsamples = 4\\nvalue = [4, 0]'),\n",
       " Text(32.80744732974033, 67.30285714285714, 'gini = 0.0\\nsamples = 5\\nvalue = [0, 5]'),\n",
       " Text(36.74434100930917, 77.65714285714284, 'X[84] <= 14.833\\ngini = 0.269\\nsamples = 25\\nvalue = [21, 4]'),\n",
       " Text(35.43204311611955, 67.30285714285714, 'X[3] <= 1.023\\ngini = 0.219\\nsamples = 24\\nvalue = [21, 3]'),\n",
       " Text(34.119745222929936, 56.94857142857143, 'X[1] <= 1.815\\ngini = 0.159\\nsamples = 23\\nvalue = [21, 2]'),\n",
       " Text(32.80744732974033, 46.59428571428572, 'X[5] <= 1.698\\ngini = 0.087\\nsamples = 22\\nvalue = [21, 1]'),\n",
       " Text(31.49514943655071, 36.24000000000001, 'gini = 0.0\\nsamples = 21\\nvalue = [21, 0]'),\n",
       " Text(34.119745222929936, 36.24000000000001, 'gini = 0.0\\nsamples = 1\\nvalue = [0, 1]'),\n",
       " Text(35.43204311611955, 46.59428571428572, 'gini = 0.0\\nsamples = 1\\nvalue = [0, 1]'),\n",
       " Text(36.74434100930917, 56.94857142857143, 'gini = 0.0\\nsamples = 1\\nvalue = [0, 1]'),\n",
       " Text(38.056638902498776, 67.30285714285714, 'gini = 0.0\\nsamples = 1\\nvalue = [0, 1]'),\n",
       " Text(30.1828515433611, 98.36571428571429, 'gini = 0.0\\nsamples = 17\\nvalue = [17, 0]'),\n",
       " Text(48.55502204801568, 108.72, 'X[0] <= -0.756\\ngini = 0.196\\nsamples = 91\\nvalue = [81, 10]'),\n",
       " Text(45.930426261636455, 98.36571428571429, 'X[956] <= 7.379\\ngini = 0.096\\nsamples = 79\\nvalue = [75, 4]'),\n",
       " Text(44.61812836844684, 88.01142857142858, 'X[1090] <= 13.34\\ngini = 0.074\\nsamples = 78\\nvalue = [75, 3]'),\n",
       " Text(43.30583047525723, 77.65714285714284, 'X[679] <= 19.353\\ngini = 0.051\\nsamples = 77\\nvalue = [75, 2]'),\n",
       " Text(40.681234688878, 67.30285714285714, 'X[788] <= 8.141\\ngini = 0.026\\nsamples = 75\\nvalue = [74, 1]'),\n",
       " Text(39.36893679568839, 56.94857142857143, 'gini = 0.0\\nsamples = 73\\nvalue = [73, 0]'),\n",
       " Text(41.993532582067616, 56.94857142857143, 'X[660] <= 15.291\\ngini = 0.5\\nsamples = 2\\nvalue = [1, 1]'),\n",
       " Text(40.681234688878, 46.59428571428572, 'gini = 0.0\\nsamples = 1\\nvalue = [1, 0]'),\n",
       " Text(43.30583047525723, 46.59428571428572, 'gini = 0.0\\nsamples = 1\\nvalue = [0, 1]'),\n",
       " Text(45.930426261636455, 67.30285714285714, 'X[4] <= -0.293\\ngini = 0.5\\nsamples = 2\\nvalue = [1, 1]'),\n",
       " Text(44.61812836844684, 56.94857142857143, 'gini = 0.0\\nsamples = 1\\nvalue = [1, 0]'),\n",
       " Text(47.242724154826064, 56.94857142857143, 'gini = 0.0\\nsamples = 1\\nvalue = [0, 1]'),\n",
       " Text(45.930426261636455, 77.65714285714284, 'gini = 0.0\\nsamples = 1\\nvalue = [0, 1]'),\n",
       " Text(47.242724154826064, 88.01142857142858, 'gini = 0.0\\nsamples = 1\\nvalue = [0, 1]'),\n",
       " Text(51.179617834394904, 98.36571428571429, 'X[0] <= -0.756\\ngini = 0.5\\nsamples = 12\\nvalue = [6, 6]'),\n",
       " Text(49.867319941205295, 88.01142857142858, 'gini = 0.0\\nsamples = 4\\nvalue = [0, 4]'),\n",
       " Text(52.49191572758452, 88.01142857142858, 'X[5] <= 0.676\\ngini = 0.375\\nsamples = 8\\nvalue = [6, 2]'),\n",
       " Text(51.179617834394904, 77.65714285714284, 'gini = 0.0\\nsamples = 5\\nvalue = [5, 0]'),\n",
       " Text(53.804213620774135, 77.65714285714284, 'X[1] <= -0.722\\ngini = 0.444\\nsamples = 3\\nvalue = [1, 2]'),\n",
       " Text(52.49191572758452, 67.30285714285714, 'gini = 0.0\\nsamples = 1\\nvalue = [1, 0]'),\n",
       " Text(55.116511513963744, 67.30285714285714, 'gini = 0.0\\nsamples = 2\\nvalue = [0, 2]'),\n",
       " Text(80.05017148456639, 139.78285714285715, 'X[0] <= -0.776\\ngini = 0.481\\nsamples = 258\\nvalue = [154, 104]'),\n",
       " Text(70.8640862322391, 129.42857142857144, 'X[0] <= -0.778\\ngini = 0.26\\nsamples = 169\\nvalue = [143, 26]'),\n",
       " Text(66.92719255267026, 119.07428571428571, 'X[1045] <= 10.969\\ngini = 0.202\\nsamples = 149\\nvalue = [132, 17]'),\n",
       " Text(65.61489465948065, 108.72, 'X[4] <= -0.286\\ngini = 0.183\\nsamples = 147\\nvalue = [132, 15]'),\n",
       " Text(62.99029887310142, 98.36571428571429, 'X[326] <= 27.383\\ngini = 0.298\\nsamples = 77\\nvalue = [63, 14]'),\n",
       " Text(61.67800097991181, 88.01142857142858, 'X[226] <= 21.642\\ngini = 0.269\\nsamples = 75\\nvalue = [63, 12]'),\n",
       " Text(59.05340519353258, 77.65714285714284, 'X[1117] <= 9.195\\ngini = 0.221\\nsamples = 71\\nvalue = [62, 9]'),\n",
       " Text(57.741107300342975, 67.30285714285714, 'X[7] <= 1.377\\ngini = 0.202\\nsamples = 70\\nvalue = [62, 8]'),\n",
       " Text(56.42880940715336, 56.94857142857143, 'X[980] <= 8.991\\ngini = 0.182\\nsamples = 69\\nvalue = [62, 7]'),\n",
       " Text(55.116511513963744, 46.59428571428572, 'X[1071] <= 9.413\\ngini = 0.161\\nsamples = 68\\nvalue = [62, 6]'),\n",
       " Text(53.804213620774135, 36.24000000000001, 'X[1086] <= 12.745\\ngini = 0.138\\nsamples = 67\\nvalue = [62, 5]'),\n",
       " Text(52.49191572758452, 25.8857142857143, 'X[932] <= 7.549\\ngini = 0.114\\nsamples = 66\\nvalue = [62, 4]'),\n",
       " Text(51.179617834394904, 15.531428571428563, 'X[5] <= -1.722\\ngini = 0.088\\nsamples = 65\\nvalue = [62, 3]'),\n",
       " Text(49.867319941205295, 5.177142857142854, 'gini = 0.0\\nsamples = 1\\nvalue = [0, 1]'),\n",
       " Text(52.49191572758452, 5.177142857142854, 'gini = 0.061\\nsamples = 64\\nvalue = [62, 2]'),\n",
       " Text(53.804213620774135, 15.531428571428563, 'gini = 0.0\\nsamples = 1\\nvalue = [0, 1]'),\n",
       " Text(55.116511513963744, 25.8857142857143, 'gini = 0.0\\nsamples = 1\\nvalue = [0, 1]'),\n",
       " Text(56.42880940715336, 36.24000000000001, 'gini = 0.0\\nsamples = 1\\nvalue = [0, 1]'),\n",
       " Text(57.741107300342975, 46.59428571428572, 'gini = 0.0\\nsamples = 1\\nvalue = [0, 1]'),\n",
       " Text(59.05340519353258, 56.94857142857143, 'gini = 0.0\\nsamples = 1\\nvalue = [0, 1]'),\n",
       " Text(60.3657030867222, 67.30285714285714, 'gini = 0.0\\nsamples = 1\\nvalue = [0, 1]'),\n",
       " Text(64.30259676629103, 77.65714285714284, 'X[4] <= -0.29\\ngini = 0.375\\nsamples = 4\\nvalue = [1, 3]'),\n",
       " Text(62.99029887310142, 67.30285714285714, 'gini = 0.0\\nsamples = 3\\nvalue = [0, 3]'),\n",
       " Text(65.61489465948065, 67.30285714285714, 'gini = 0.0\\nsamples = 1\\nvalue = [1, 0]'),\n",
       " Text(64.30259676629103, 88.01142857142858, 'gini = 0.0\\nsamples = 2\\nvalue = [0, 2]'),\n",
       " Text(68.23949044585987, 98.36571428571429, 'X[895] <= 7.219\\ngini = 0.028\\nsamples = 70\\nvalue = [69, 1]'),\n",
       " Text(66.92719255267026, 88.01142857142858, 'gini = 0.0\\nsamples = 69\\nvalue = [69, 0]'),\n",
       " Text(69.5517883390495, 88.01142857142858, 'gini = 0.0\\nsamples = 1\\nvalue = [0, 1]'),\n",
       " Text(68.23949044585987, 108.72, 'gini = 0.0\\nsamples = 2\\nvalue = [0, 2]'),\n",
       " Text(74.80097991180794, 119.07428571428571, 'X[4] <= -0.289\\ngini = 0.495\\nsamples = 20\\nvalue = [11, 9]'),\n",
       " Text(72.17638412542871, 108.72, 'X[4] <= -0.294\\ngini = 0.198\\nsamples = 9\\nvalue = [8, 1]'),\n",
       " Text(70.8640862322391, 98.36571428571429, 'gini = 0.0\\nsamples = 1\\nvalue = [0, 1]'),\n",
       " Text(73.48868201861833, 98.36571428571429, 'gini = 0.0\\nsamples = 8\\nvalue = [8, 0]'),\n",
       " Text(77.42557569818716, 108.72, 'X[4] <= 0.343\\ngini = 0.397\\nsamples = 11\\nvalue = [3, 8]'),\n",
       " Text(76.11327780499755, 98.36571428571429, 'gini = 0.0\\nsamples = 7\\nvalue = [0, 7]'),\n",
       " Text(78.73787359137678, 98.36571428571429, 'X[800] <= 15.794\\ngini = 0.375\\nsamples = 4\\nvalue = [3, 1]'),\n",
       " Text(77.42557569818716, 88.01142857142858, 'gini = 0.0\\nsamples = 3\\nvalue = [3, 0]'),\n",
       " Text(80.05017148456639, 88.01142857142858, 'gini = 0.0\\nsamples = 1\\nvalue = [0, 1]'),\n",
       " Text(89.23625673689368, 129.42857142857144, 'X[3] <= 1.45\\ngini = 0.217\\nsamples = 89\\nvalue = [11, 78]'),\n",
       " Text(87.92395884370407, 119.07428571428571, 'X[401] <= 24.995\\ngini = 0.185\\nsamples = 87\\nvalue = [9, 78]'),\n",
       " Text(85.29936305732484, 108.72, 'X[1148] <= 14.833\\ngini = 0.153\\nsamples = 84\\nvalue = [7, 77]'),\n",
       " Text(83.98706516413523, 98.36571428571429, 'X[981] <= 11.983\\ngini = 0.134\\nsamples = 83\\nvalue = [6, 77]'),\n",
       " Text(82.67476727094562, 88.01142857142858, 'X[765] <= 10.034\\ngini = 0.115\\nsamples = 82\\nvalue = [5, 77]'),\n",
       " Text(81.362469377756, 77.65714285714284, 'X[1123] <= 8.292\\ngini = 0.094\\nsamples = 81\\nvalue = [4, 77]'),\n",
       " Text(80.05017148456639, 67.30285714285714, 'X[929] <= 9.528\\ngini = 0.072\\nsamples = 80\\nvalue = [3, 77]'),\n",
       " Text(78.73787359137678, 56.94857142857143, 'X[827] <= 6.473\\ngini = 0.049\\nsamples = 79\\nvalue = [2, 77]'),\n",
       " Text(77.42557569818716, 46.59428571428572, 'X[1054] <= 9.413\\ngini = 0.025\\nsamples = 78\\nvalue = [1, 77]'),\n",
       " Text(76.11327780499755, 36.24000000000001, 'gini = 0.0\\nsamples = 77\\nvalue = [0, 77]'),\n",
       " Text(78.73787359137678, 36.24000000000001, 'gini = 0.0\\nsamples = 1\\nvalue = [1, 0]'),\n",
       " Text(80.05017148456639, 46.59428571428572, 'gini = 0.0\\nsamples = 1\\nvalue = [1, 0]'),\n",
       " Text(81.362469377756, 56.94857142857143, 'gini = 0.0\\nsamples = 1\\nvalue = [1, 0]'),\n",
       " Text(82.67476727094562, 67.30285714285714, 'gini = 0.0\\nsamples = 1\\nvalue = [1, 0]'),\n",
       " Text(83.98706516413523, 77.65714285714284, 'gini = 0.0\\nsamples = 1\\nvalue = [1, 0]'),\n",
       " Text(85.29936305732484, 88.01142857142858, 'gini = 0.0\\nsamples = 1\\nvalue = [1, 0]'),\n",
       " Text(86.61166095051446, 98.36571428571429, 'gini = 0.0\\nsamples = 1\\nvalue = [1, 0]'),\n",
       " Text(90.5485546300833, 108.72, 'X[0] <= -0.773\\ngini = 0.444\\nsamples = 3\\nvalue = [2, 1]'),\n",
       " Text(89.23625673689368, 98.36571428571429, 'gini = 0.0\\nsamples = 2\\nvalue = [2, 0]'),\n",
       " Text(91.86085252327291, 98.36571428571429, 'gini = 0.0\\nsamples = 1\\nvalue = [0, 1]'),\n",
       " Text(90.5485546300833, 119.07428571428571, 'gini = 0.0\\nsamples = 2\\nvalue = [2, 0]'),\n",
       " Text(110.8891719745223, 150.13714285714286, 'X[0] <= -0.783\\ngini = 0.465\\nsamples = 369\\nvalue = [233, 136]'),\n",
       " Text(108.26457618814307, 139.78285714285715, 'X[831] <= 7.324\\ngini = 0.015\\nsamples = 133\\nvalue = [132, 1]'),\n",
       " Text(106.95227829495346, 129.42857142857144, 'gini = 0.0\\nsamples = 132\\nvalue = [132, 0]'),\n",
       " Text(109.57687408133269, 129.42857142857144, 'gini = 0.0\\nsamples = 1\\nvalue = [0, 1]'),\n",
       " Text(113.51376776090153, 139.78285714285715, 'X[0] <= -0.772\\ngini = 0.49\\nsamples = 236\\nvalue = [101, 135]'),\n",
       " Text(112.20146986771191, 129.42857142857144, 'X[4] <= -0.287\\ngini = 0.446\\nsamples = 203\\nvalue = [68, 135]'),\n",
       " Text(103.01538461538462, 119.07428571428571, 'X[716] <= 0.042\\ngini = 0.464\\nsamples = 52\\nvalue = [33, 19]'),\n",
       " Text(97.11004409603136, 108.72, 'X[0] <= -0.783\\ngini = 0.269\\nsamples = 25\\nvalue = [21, 4]'),\n",
       " Text(94.48544830965213, 98.36571428571429, 'X[3] <= 0.697\\ngini = 0.375\\nsamples = 4\\nvalue = [1, 3]'),\n",
       " Text(93.17315041646252, 88.01142857142858, 'gini = 0.0\\nsamples = 3\\nvalue = [0, 3]'),\n",
       " Text(95.79774620284175, 88.01142857142858, 'gini = 0.0\\nsamples = 1\\nvalue = [1, 0]'),\n",
       " Text(99.73463988241059, 98.36571428571429, 'X[983] <= 9.9\\ngini = 0.091\\nsamples = 21\\nvalue = [20, 1]'),\n",
       " Text(98.42234198922097, 88.01142857142858, 'gini = 0.0\\nsamples = 20\\nvalue = [20, 0]'),\n",
       " Text(101.0469377756002, 88.01142857142858, 'gini = 0.0\\nsamples = 1\\nvalue = [0, 1]'),\n",
       " Text(108.92072513473788, 108.72, 'X[6] <= 1.205\\ngini = 0.494\\nsamples = 27\\nvalue = [12, 15]'),\n",
       " Text(107.60842724154827, 98.36571428571429, 'X[7] <= 0.515\\ngini = 0.496\\nsamples = 22\\nvalue = [12, 10]'),\n",
       " Text(103.67153356197943, 88.01142857142858, 'X[6] <= -0.556\\ngini = 0.408\\nsamples = 14\\nvalue = [10, 4]'),\n",
       " Text(102.35923566878981, 77.65714285714284, 'gini = 0.0\\nsamples = 2\\nvalue = [0, 2]'),\n",
       " Text(104.98383145516904, 77.65714285714284, 'X[946] <= 8.894\\ngini = 0.278\\nsamples = 12\\nvalue = [10, 2]'),\n",
       " Text(103.67153356197943, 67.30285714285714, 'X[637] <= 17.664\\ngini = 0.165\\nsamples = 11\\nvalue = [10, 1]'),\n",
       " Text(102.35923566878981, 56.94857142857143, 'gini = 0.0\\nsamples = 10\\nvalue = [10, 0]'),\n",
       " Text(104.98383145516904, 56.94857142857143, 'gini = 0.0\\nsamples = 1\\nvalue = [0, 1]'),\n",
       " Text(106.29612934835865, 67.30285714285714, 'gini = 0.0\\nsamples = 1\\nvalue = [0, 1]'),\n",
       " Text(111.54532092111711, 88.01142857142858, 'X[101] <= 15.794\\ngini = 0.375\\nsamples = 8\\nvalue = [2, 6]'),\n",
       " Text(110.23302302792749, 77.65714285714284, 'X[2] <= 0.936\\ngini = 0.245\\nsamples = 7\\nvalue = [1, 6]'),\n",
       " Text(108.92072513473788, 67.30285714285714, 'gini = 0.0\\nsamples = 6\\nvalue = [0, 6]'),\n",
       " Text(111.54532092111711, 67.30285714285714, 'gini = 0.0\\nsamples = 1\\nvalue = [1, 0]'),\n",
       " Text(112.85761881430672, 77.65714285714284, 'gini = 0.0\\nsamples = 1\\nvalue = [1, 0]'),\n",
       " Text(110.23302302792749, 98.36571428571429, 'gini = 0.0\\nsamples = 5\\nvalue = [0, 5]'),\n",
       " Text(121.3875551200392, 119.07428571428571, 'X[0] <= -0.782\\ngini = 0.356\\nsamples = 151\\nvalue = [35, 116]'),\n",
       " Text(116.79451249387556, 108.72, 'X[5] <= 0.267\\ngini = 0.42\\nsamples = 10\\nvalue = [7, 3]'),\n",
       " Text(115.48221460068595, 98.36571428571429, 'X[306] <= 13.34\\ngini = 0.219\\nsamples = 8\\nvalue = [7, 1]'),\n",
       " Text(114.16991670749633, 88.01142857142858, 'gini = 0.0\\nsamples = 7\\nvalue = [7, 0]'),\n",
       " Text(116.79451249387556, 88.01142857142858, 'gini = 0.0\\nsamples = 1\\nvalue = [0, 1]'),\n",
       " Text(118.10681038706517, 98.36571428571429, 'gini = 0.0\\nsamples = 2\\nvalue = [0, 2]'),\n",
       " Text(125.98059774620285, 108.72, 'X[5] <= 0.279\\ngini = 0.318\\nsamples = 141\\nvalue = [28, 113]'),\n",
       " Text(120.7314061734444, 98.36571428571429, 'X[923] <= 8.215\\ngini = 0.14\\nsamples = 79\\nvalue = [6, 73]'),\n",
       " Text(119.41910828025478, 88.01142857142858, 'X[1147] <= 12.475\\ngini = 0.12\\nsamples = 78\\nvalue = [5, 73]'),\n",
       " Text(118.10681038706517, 77.65714285714284, 'X[4] <= 3.283\\ngini = 0.098\\nsamples = 77\\nvalue = [4, 73]'),\n",
       " Text(116.79451249387556, 67.30285714285714, 'X[1098] <= 6.794\\ngini = 0.076\\nsamples = 76\\nvalue = [3, 73]'),\n",
       " Text(115.48221460068595, 56.94857142857143, 'X[1069] <= 7.434\\ngini = 0.052\\nsamples = 75\\nvalue = [2, 73]'),\n",
       " Text(114.16991670749633, 46.59428571428572, 'X[733] <= 7.271\\ngini = 0.027\\nsamples = 74\\nvalue = [1, 73]'),\n",
       " Text(112.85761881430672, 36.24000000000001, 'gini = 0.0\\nsamples = 73\\nvalue = [0, 73]'),\n",
       " Text(115.48221460068595, 36.24000000000001, 'gini = 0.0\\nsamples = 1\\nvalue = [1, 0]'),\n",
       " Text(116.79451249387556, 46.59428571428572, 'gini = 0.0\\nsamples = 1\\nvalue = [1, 0]'),\n",
       " Text(118.10681038706517, 56.94857142857143, 'gini = 0.0\\nsamples = 1\\nvalue = [1, 0]'),\n",
       " Text(119.41910828025478, 67.30285714285714, 'gini = 0.0\\nsamples = 1\\nvalue = [1, 0]'),\n",
       " Text(120.7314061734444, 77.65714285714284, 'gini = 0.0\\nsamples = 1\\nvalue = [1, 0]'),\n",
       " Text(122.043704066634, 88.01142857142858, 'gini = 0.0\\nsamples = 1\\nvalue = [1, 0]'),\n",
       " Text(131.2297893189613, 98.36571428571429, 'X[5] <= 0.693\\ngini = 0.458\\nsamples = 62\\nvalue = [22, 40]'),\n",
       " Text(125.98059774620285, 88.01142857142858, 'X[4] <= -0.222\\ngini = 0.469\\nsamples = 16\\nvalue = [10, 6]'),\n",
       " Text(123.35600195982362, 77.65714285714284, 'X[986] <= 9.9\\ngini = 0.198\\nsamples = 9\\nvalue = [8, 1]'),\n",
       " Text(122.043704066634, 67.30285714285714, 'gini = 0.0\\nsamples = 8\\nvalue = [8, 0]'),\n",
       " Text(124.66829985301324, 67.30285714285714, 'gini = 0.0\\nsamples = 1\\nvalue = [0, 1]'),\n",
       " Text(128.60519353258206, 77.65714285714284, 'X[4] <= 0.703\\ngini = 0.408\\nsamples = 7\\nvalue = [2, 5]'),\n",
       " Text(127.29289563939246, 67.30285714285714, 'gini = 0.0\\nsamples = 5\\nvalue = [0, 5]'),\n",
       " Text(129.9174914257717, 67.30285714285714, 'gini = 0.0\\nsamples = 2\\nvalue = [2, 0]'),\n",
       " Text(136.47898089171974, 88.01142857142858, 'X[838] <= 7.168\\ngini = 0.386\\nsamples = 46\\nvalue = [12, 34]'),\n",
       " Text(135.16668299853015, 77.65714285714284, 'X[4] <= -0.188\\ngini = 0.351\\nsamples = 44\\nvalue = [10, 34]'),\n",
       " Text(132.5420872121509, 67.30285714285714, 'X[422] <= 15.291\\ngini = 0.191\\nsamples = 28\\nvalue = [3, 25]'),\n",
       " Text(131.2297893189613, 56.94857142857143, 'X[1172] <= 10.471\\ngini = 0.074\\nsamples = 26\\nvalue = [1, 25]'),\n",
       " Text(129.9174914257717, 46.59428571428572, 'gini = 0.0\\nsamples = 25\\nvalue = [0, 25]'),\n",
       " Text(132.5420872121509, 46.59428571428572, 'gini = 0.0\\nsamples = 1\\nvalue = [1, 0]'),\n",
       " Text(133.85438510534053, 56.94857142857143, 'gini = 0.0\\nsamples = 2\\nvalue = [2, 0]'),\n",
       " Text(137.79127878490937, 67.30285714285714, 'X[4] <= -0.096\\ngini = 0.492\\nsamples = 16\\nvalue = [7, 9]'),\n",
       " Text(136.47898089171974, 56.94857142857143, 'gini = 0.0\\nsamples = 3\\nvalue = [3, 0]'),\n",
       " Text(139.103576678099, 56.94857142857143, 'X[6] <= -1.046\\ngini = 0.426\\nsamples = 13\\nvalue = [4, 9]'),\n",
       " Text(137.79127878490937, 46.59428571428572, 'gini = 0.0\\nsamples = 4\\nvalue = [0, 4]'),\n",
       " Text(140.41587457128858, 46.59428571428572, 'X[2] <= -0.694\\ngini = 0.494\\nsamples = 9\\nvalue = [4, 5]'),\n",
       " Text(139.103576678099, 36.24000000000001, 'gini = 0.0\\nsamples = 2\\nvalue = [2, 0]'),\n",
       " Text(141.7281724644782, 36.24000000000001, 'X[145] <= 14.833\\ngini = 0.408\\nsamples = 7\\nvalue = [2, 5]'),\n",
       " Text(140.41587457128858, 25.8857142857143, 'X[222] <= 15.794\\ngini = 0.278\\nsamples = 6\\nvalue = [1, 5]'),\n",
       " Text(139.103576678099, 15.531428571428563, 'gini = 0.0\\nsamples = 5\\nvalue = [0, 5]'),\n",
       " Text(141.7281724644782, 15.531428571428563, 'gini = 0.0\\nsamples = 1\\nvalue = [1, 0]'),\n",
       " Text(143.04047035766783, 25.8857142857143, 'gini = 0.0\\nsamples = 1\\nvalue = [1, 0]'),\n",
       " Text(137.79127878490937, 77.65714285714284, 'gini = 0.0\\nsamples = 2\\nvalue = [2, 0]'),\n",
       " Text(114.82606565409114, 129.42857142857144, 'gini = 0.0\\nsamples = 33\\nvalue = [33, 0]'),\n",
       " Text(121.3875551200392, 160.49142857142857, 'X[1088] <= 8.62\\ngini = 0.068\\nsamples = 113\\nvalue = [4, 109]'),\n",
       " Text(120.07525722684959, 150.13714285714286, 'X[811] <= 10.471\\ngini = 0.035\\nsamples = 111\\nvalue = [2, 109]'),\n",
       " Text(118.76295933365998, 139.78285714285715, 'X[977] <= 7.324\\ngini = 0.018\\nsamples = 110\\nvalue = [1, 109]'),\n",
       " Text(117.45066144047036, 129.42857142857144, 'gini = 0.0\\nsamples = 109\\nvalue = [0, 109]'),\n",
       " Text(120.07525722684959, 129.42857142857144, 'gini = 0.0\\nsamples = 1\\nvalue = [1, 0]'),\n",
       " Text(121.3875551200392, 139.78285714285715, 'gini = 0.0\\nsamples = 1\\nvalue = [1, 0]'),\n",
       " Text(122.69985301322882, 150.13714285714286, 'gini = 0.0\\nsamples = 2\\nvalue = [2, 0]'),\n",
       " Text(188.70433610975013, 170.84571428571428, 'X[707] <= 1.875\\ngini = 0.486\\nsamples = 755\\nvalue = [314, 441]'),\n",
       " Text(187.3920382165605, 160.49142857142857, 'X[701] <= 2.02\\ngini = 0.467\\nsamples = 702\\nvalue = [261, 441]'),\n",
       " Text(186.0797403233709, 150.13714285714286, 'X[702] <= 2.23\\ngini = 0.445\\nsamples = 662\\nvalue = [221, 441]'),\n",
       " Text(184.7674424301813, 139.78285714285715, 'X[716] <= 0.042\\ngini = 0.42\\nsamples = 630\\nvalue = [189, 441]'),\n",
       " Text(169.81954924056836, 129.42857142857144, 'X[710] <= 2.126\\ngini = 0.364\\nsamples = 484\\nvalue = [116, 368]'),\n",
       " Text(168.50725134737874, 119.07428571428571, 'X[713] <= 1.33\\ngini = 0.351\\nsamples = 476\\nvalue = [108, 368]'),\n",
       " Text(167.19495345418912, 108.72, 'X[712] <= 0.957\\ngini = 0.336\\nsamples = 468\\nvalue = [100, 368]'),\n",
       " Text(165.88265556099952, 98.36571428571429, 'X[709] <= 1.478\\ngini = 0.322\\nsamples = 461\\nvalue = [93, 368]'),\n",
       " Text(164.5703576678099, 88.01142857142858, 'X[1017] <= 8.8\\ngini = 0.311\\nsamples = 456\\nvalue = [88, 368]'),\n",
       " Text(163.25805977462028, 77.65714285714284, 'X[1015] <= 7.434\\ngini = 0.305\\nsamples = 453\\nvalue = [85, 368]'),\n",
       " Text(158.87006369426751, 67.30285714285714, 'X[82] <= 15.291\\ngini = 0.296\\nsamples = 448\\nvalue = [81, 367]'),\n",
       " Text(154.03096521313083, 56.94857142857143, 'X[5] <= -1.182\\ngini = 0.287\\nsamples = 443\\nvalue = [77, 366]'),\n",
       " Text(148.28966193042626, 46.59428571428572, 'X[1176] <= 7.491\\ngini = 0.13\\nsamples = 100\\nvalue = [7, 93]'),\n",
       " Text(146.97736403723667, 36.24000000000001, 'X[46] <= 14.028\\ngini = 0.114\\nsamples = 99\\nvalue = [6, 93]'),\n",
       " Text(145.66506614404705, 25.8857142857143, 'X[747] <= 8.451\\ngini = 0.097\\nsamples = 98\\nvalue = [5, 93]'),\n",
       " Text(144.35276825085742, 15.531428571428563, 'X[1164] <= 12.222\\ngini = 0.079\\nsamples = 97\\nvalue = [4, 93]'),\n",
       " Text(143.04047035766783, 5.177142857142854, 'gini = 0.061\\nsamples = 96\\nvalue = [3, 93]'),\n",
       " Text(145.66506614404705, 5.177142857142854, 'gini = 0.0\\nsamples = 1\\nvalue = [1, 0]'),\n",
       " Text(146.97736403723667, 15.531428571428563, 'gini = 0.0\\nsamples = 1\\nvalue = [1, 0]'),\n",
       " Text(148.28966193042626, 25.8857142857143, 'gini = 0.0\\nsamples = 1\\nvalue = [1, 0]'),\n",
       " Text(149.60195982361589, 36.24000000000001, 'gini = 0.0\\nsamples = 1\\nvalue = [1, 0]'),\n",
       " Text(159.7722684958354, 46.59428571428572, 'X[5] <= -0.998\\ngini = 0.325\\nsamples = 343\\nvalue = [70, 273]'),\n",
       " Text(153.53885350318473, 36.24000000000001, 'X[5] <= -1.118\\ngini = 0.48\\nsamples = 15\\nvalue = [9, 6]'),\n",
       " Text(150.91425771680548, 25.8857142857143, 'X[7] <= -0.97\\ngini = 0.408\\nsamples = 7\\nvalue = [2, 5]'),\n",
       " Text(149.60195982361589, 15.531428571428563, 'gini = 0.0\\nsamples = 2\\nvalue = [2, 0]'),\n",
       " Text(152.2265556099951, 15.531428571428563, 'gini = 0.0\\nsamples = 5\\nvalue = [0, 5]'),\n",
       " Text(156.16344928956394, 25.8857142857143, 'X[441] <= 21.642\\ngini = 0.219\\nsamples = 8\\nvalue = [7, 1]'),\n",
       " Text(154.85115139637432, 15.531428571428563, 'gini = 0.0\\nsamples = 7\\nvalue = [7, 0]'),\n",
       " Text(157.47574718275357, 15.531428571428563, 'gini = 0.0\\nsamples = 1\\nvalue = [0, 1]'),\n",
       " Text(166.00568348848606, 36.24000000000001, 'X[0] <= -0.742\\ngini = 0.303\\nsamples = 328\\nvalue = [61, 267]'),\n",
       " Text(162.724938755512, 25.8857142857143, 'X[7] <= 1.211\\ngini = 0.236\\nsamples = 241\\nvalue = [33, 208]'),\n",
       " Text(160.10034296913278, 15.531428571428563, 'X[574] <= 20.402\\ngini = 0.221\\nsamples = 237\\nvalue = [30, 207]'),\n",
       " Text(158.78804507594316, 5.177142857142854, 'gini = 0.21\\nsamples = 235\\nvalue = [28, 207]'),\n",
       " Text(161.4126408623224, 5.177142857142854, 'gini = 0.0\\nsamples = 2\\nvalue = [2, 0]'),\n",
       " Text(165.34953454189124, 15.531428571428563, 'X[5] <= -0.485\\ngini = 0.375\\nsamples = 4\\nvalue = [3, 1]'),\n",
       " Text(164.03723664870162, 5.177142857142854, 'gini = 0.0\\nsamples = 1\\nvalue = [0, 1]'),\n",
       " Text(166.66183243508084, 5.177142857142854, 'gini = 0.0\\nsamples = 3\\nvalue = [3, 0]'),\n",
       " Text(169.28642822146008, 25.8857142857143, 'X[0] <= -0.742\\ngini = 0.437\\nsamples = 87\\nvalue = [28, 59]'),\n",
       " Text(167.97413032827046, 15.531428571428563, 'gini = 0.0\\nsamples = 4\\nvalue = [4, 0]'),\n",
       " Text(170.59872611464968, 15.531428571428563, 'X[666] <= 16.35\\ngini = 0.411\\nsamples = 83\\nvalue = [24, 59]'),\n",
       " Text(169.28642822146008, 5.177142857142854, 'gini = 0.396\\nsamples = 81\\nvalue = [22, 59]'),\n",
       " Text(171.9110240078393, 5.177142857142854, 'gini = 0.0\\nsamples = 2\\nvalue = [2, 0]'),\n",
       " Text(163.70916217540423, 56.94857142857143, 'X[6] <= -1.36\\ngini = 0.32\\nsamples = 5\\nvalue = [4, 1]'),\n",
       " Text(162.3968642822146, 46.59428571428572, 'gini = 0.0\\nsamples = 1\\nvalue = [0, 1]'),\n",
       " Text(165.02146006859383, 46.59428571428572, 'gini = 0.0\\nsamples = 4\\nvalue = [4, 0]'),\n",
       " Text(167.64605585497307, 67.30285714285714, 'X[0] <= -0.748\\ngini = 0.32\\nsamples = 5\\nvalue = [4, 1]'),\n",
       " Text(166.33375796178345, 56.94857142857143, 'gini = 0.0\\nsamples = 1\\nvalue = [0, 1]'),\n",
       " Text(168.95835374816266, 56.94857142857143, 'gini = 0.0\\nsamples = 4\\nvalue = [4, 0]'),\n",
       " Text(165.88265556099952, 77.65714285714284, 'gini = 0.0\\nsamples = 3\\nvalue = [3, 0]'),\n",
       " Text(167.19495345418912, 88.01142857142858, 'gini = 0.0\\nsamples = 5\\nvalue = [5, 0]'),\n",
       " Text(168.50725134737874, 98.36571428571429, 'gini = 0.0\\nsamples = 7\\nvalue = [7, 0]'),\n",
       " Text(169.81954924056836, 108.72, 'gini = 0.0\\nsamples = 8\\nvalue = [8, 0]'),\n",
       " Text(171.13184713375796, 119.07428571428571, 'gini = 0.0\\nsamples = 8\\nvalue = [8, 0]'),\n",
       " Text(199.71533561979422, 129.42857142857144, 'X[0] <= -0.738\\ngini = 0.5\\nsamples = 146\\nvalue = [73, 73]'),\n",
       " Text(198.40303772660462, 119.07428571428571, 'X[709] <= 1.478\\ngini = 0.494\\nsamples = 132\\nvalue = [59, 73]'),\n",
       " Text(197.090739833415, 108.72, 'X[704] <= 2.939\\ngini = 0.49\\nsamples = 128\\nvalue = [55, 73]'),\n",
       " Text(189.79108280254778, 98.36571428571429, 'X[0] <= -0.749\\ngini = 0.481\\nsamples = 119\\nvalue = [48, 71]'),\n",
       " Text(179.12866242038217, 88.01142857142858, 'X[4] <= -0.289\\ngini = 0.495\\nsamples = 42\\nvalue = [23, 19]'),\n",
       " Text(174.20754532092113, 77.65714285714284, 'X[4] <= -0.293\\ngini = 0.444\\nsamples = 12\\nvalue = [4, 8]'),\n",
       " Text(172.8952474277315, 67.30285714285714, 'X[5] <= -1.205\\ngini = 0.49\\nsamples = 7\\nvalue = [4, 3]'),\n",
       " Text(171.5829495345419, 56.94857142857143, 'gini = 0.0\\nsamples = 2\\nvalue = [0, 2]'),\n",
       " Text(174.20754532092113, 56.94857142857143, 'X[564] <= 14.414\\ngini = 0.32\\nsamples = 5\\nvalue = [4, 1]'),\n",
       " Text(172.8952474277315, 46.59428571428572, 'gini = 0.0\\nsamples = 4\\nvalue = [4, 0]'),\n",
       " Text(175.51984321411075, 46.59428571428572, 'gini = 0.0\\nsamples = 1\\nvalue = [0, 1]'),\n",
       " Text(175.51984321411075, 67.30285714285714, 'gini = 0.0\\nsamples = 5\\nvalue = [0, 5]'),\n",
       " Text(184.0497795198432, 77.65714285714284, 'X[4] <= -0.255\\ngini = 0.464\\nsamples = 30\\nvalue = [19, 11]'),\n",
       " Text(180.76903478686918, 67.30285714285714, 'X[1] <= -1.305\\ngini = 0.305\\nsamples = 16\\nvalue = [13, 3]'),\n",
       " Text(179.45673689367956, 56.94857142857143, 'X[5] <= 0.391\\ngini = 0.5\\nsamples = 6\\nvalue = [3, 3]'),\n",
       " Text(178.14443900048997, 46.59428571428572, 'X[881] <= 8.991\\ngini = 0.375\\nsamples = 4\\nvalue = [3, 1]'),\n",
       " Text(176.83214110730034, 36.24000000000001, 'gini = 0.0\\nsamples = 3\\nvalue = [3, 0]'),\n",
       " Text(179.45673689367956, 36.24000000000001, 'gini = 0.0\\nsamples = 1\\nvalue = [0, 1]'),\n",
       " Text(180.76903478686918, 46.59428571428572, 'gini = 0.0\\nsamples = 2\\nvalue = [0, 2]'),\n",
       " Text(182.0813326800588, 56.94857142857143, 'gini = 0.0\\nsamples = 10\\nvalue = [10, 0]'),\n",
       " Text(187.33052425281724, 67.30285714285714, 'X[711] <= 2.055\\ngini = 0.49\\nsamples = 14\\nvalue = [6, 8]'),\n",
       " Text(184.70592846643802, 56.94857142857143, 'X[5] <= -1.481\\ngini = 0.346\\nsamples = 9\\nvalue = [2, 7]'),\n",
       " Text(183.3936305732484, 46.59428571428572, 'gini = 0.0\\nsamples = 1\\nvalue = [1, 0]'),\n",
       " Text(186.01822635962765, 46.59428571428572, 'X[5] <= 0.079\\ngini = 0.219\\nsamples = 8\\nvalue = [1, 7]'),\n",
       " Text(184.70592846643802, 36.24000000000001, 'gini = 0.0\\nsamples = 7\\nvalue = [0, 7]'),\n",
       " Text(187.33052425281724, 36.24000000000001, 'gini = 0.0\\nsamples = 1\\nvalue = [1, 0]'),\n",
       " Text(189.9551200391965, 56.94857142857143, 'X[2] <= -2.247\\ngini = 0.32\\nsamples = 5\\nvalue = [4, 1]'),\n",
       " Text(188.64282214600686, 46.59428571428572, 'gini = 0.0\\nsamples = 1\\nvalue = [0, 1]'),\n",
       " Text(191.26741793238608, 46.59428571428572, 'gini = 0.0\\nsamples = 4\\nvalue = [4, 0]'),\n",
       " Text(200.45350318471338, 88.01142857142858, 'X[712] <= 0.957\\ngini = 0.439\\nsamples = 77\\nvalue = [25, 52]'),\n",
       " Text(199.14120529152376, 77.65714285714284, 'X[7] <= 1.211\\ngini = 0.418\\nsamples = 74\\nvalue = [22, 52]'),\n",
       " Text(196.51660950514454, 67.30285714285714, 'X[1] <= 1.777\\ngini = 0.379\\nsamples = 67\\nvalue = [17, 50]'),\n",
       " Text(195.20431161195492, 56.94857142857143, 'X[6] <= 0.587\\ngini = 0.355\\nsamples = 65\\nvalue = [15, 50]'),\n",
       " Text(193.89201371876533, 46.59428571428572, 'X[5] <= 1.18\\ngini = 0.406\\nsamples = 53\\nvalue = [15, 38]'),\n",
       " Text(190.6112689857913, 36.24000000000001, 'X[0] <= -0.743\\ngini = 0.34\\nsamples = 46\\nvalue = [10, 36]'),\n",
       " Text(187.98667319941205, 25.8857142857143, 'X[681] <= 15.291\\ngini = 0.219\\nsamples = 32\\nvalue = [4, 28]'),\n",
       " Text(186.67437530622246, 15.531428571428563, 'X[721] <= 8.292\\ngini = 0.175\\nsamples = 31\\nvalue = [3, 28]'),\n",
       " Text(185.36207741303284, 5.177142857142854, 'gini = 0.124\\nsamples = 30\\nvalue = [2, 28]'),\n",
       " Text(187.98667319941205, 5.177142857142854, 'gini = 0.0\\nsamples = 1\\nvalue = [1, 0]'),\n",
       " Text(189.29897109260168, 15.531428571428563, 'gini = 0.0\\nsamples = 1\\nvalue = [1, 0]'),\n",
       " Text(193.23586477217052, 25.8857142857143, 'X[708] <= 1.851\\ngini = 0.49\\nsamples = 14\\nvalue = [6, 8]'),\n",
       " Text(191.9235668789809, 15.531428571428563, 'X[0] <= -0.741\\ngini = 0.397\\nsamples = 11\\nvalue = [3, 8]'),\n",
       " Text(190.6112689857913, 5.177142857142854, 'gini = 0.48\\nsamples = 5\\nvalue = [3, 2]'),\n",
       " Text(193.23586477217052, 5.177142857142854, 'gini = 0.0\\nsamples = 6\\nvalue = [0, 6]'),\n",
       " Text(194.54816266536014, 15.531428571428563, 'gini = 0.0\\nsamples = 3\\nvalue = [3, 0]'),\n",
       " Text(197.17275845173936, 36.24000000000001, 'X[0] <= -0.74\\ngini = 0.408\\nsamples = 7\\nvalue = [5, 2]'),\n",
       " Text(195.86046055854973, 25.8857142857143, 'gini = 0.0\\nsamples = 5\\nvalue = [5, 0]'),\n",
       " Text(198.48505634492898, 25.8857142857143, 'gini = 0.0\\nsamples = 2\\nvalue = [0, 2]'),\n",
       " Text(196.51660950514454, 46.59428571428572, 'gini = 0.0\\nsamples = 12\\nvalue = [0, 12]'),\n",
       " Text(197.82890739833417, 56.94857142857143, 'gini = 0.0\\nsamples = 2\\nvalue = [2, 0]'),\n",
       " Text(201.765801077903, 67.30285714285714, 'X[711] <= 2.055\\ngini = 0.408\\nsamples = 7\\nvalue = [5, 2]'),\n",
       " Text(200.45350318471338, 56.94857142857143, 'gini = 0.0\\nsamples = 5\\nvalue = [5, 0]'),\n",
       " Text(203.0780989710926, 56.94857142857143, 'gini = 0.0\\nsamples = 2\\nvalue = [0, 2]'),\n",
       " Text(201.765801077903, 77.65714285714284, 'gini = 0.0\\nsamples = 3\\nvalue = [3, 0]'),\n",
       " Text(204.39039686428222, 98.36571428571429, 'X[0] <= -0.753\\ngini = 0.346\\nsamples = 9\\nvalue = [7, 2]'),\n",
       " Text(203.0780989710926, 88.01142857142858, 'gini = 0.0\\nsamples = 2\\nvalue = [0, 2]'),\n",
       " Text(205.70269475747185, 88.01142857142858, 'gini = 0.0\\nsamples = 7\\nvalue = [7, 0]'),\n",
       " Text(199.71533561979422, 108.72, 'gini = 0.0\\nsamples = 4\\nvalue = [4, 0]'),\n",
       " Text(201.02763351298384, 119.07428571428571, 'gini = 0.0\\nsamples = 14\\nvalue = [14, 0]'),\n",
       " Text(187.3920382165605, 139.78285714285715, 'gini = 0.0\\nsamples = 32\\nvalue = [32, 0]'),\n",
       " Text(188.70433610975013, 150.13714285714286, 'gini = 0.0\\nsamples = 40\\nvalue = [40, 0]'),\n",
       " Text(190.01663400293975, 160.49142857142857, 'gini = 0.0\\nsamples = 53\\nvalue = [53, 0]'),\n",
       " Text(147.66426996570308, 181.2, 'gini = 0.0\\nsamples = 557\\nvalue = [0, 557]'),\n",
       " Text(266.4169769720725, 191.5542857142857, 'X[702] <= 2.23\\ngini = 0.116\\nsamples = 4369\\nvalue = [4100, 269]'),\n",
       " Text(253.15046545810878, 181.2, 'X[0] <= -0.22\\ngini = 0.064\\nsamples = 3930\\nvalue = [3800, 130]'),\n",
       " Text(244.16942675159237, 170.84571428571428, 'X[710] <= 2.126\\ngini = 0.049\\nsamples = 3840\\nvalue = [3743, 97]'),\n",
       " Text(234.08113669769722, 160.49142857142857, 'X[711] <= 2.055\\ngini = 0.034\\nsamples = 3672\\nvalue = [3608, 64]'),\n",
       " Text(222.4344928956394, 150.13714285714286, 'X[0] <= -0.253\\ngini = 0.012\\nsamples = 3380\\nvalue = [3360, 20]'),\n",
       " Text(216.85722684958355, 139.78285714285715, 'X[0] <= -0.729\\ngini = 0.007\\nsamples = 3333\\nvalue = [3321, 12]'),\n",
       " Text(210.95188633023028, 129.42857142857144, 'X[5] <= -0.835\\ngini = 0.219\\nsamples = 48\\nvalue = [42, 6]'),\n",
       " Text(207.01499265066144, 119.07428571428571, 'X[0] <= -0.733\\ngini = 0.5\\nsamples = 8\\nvalue = [4, 4]'),\n",
       " Text(205.70269475747185, 108.72, 'gini = 0.0\\nsamples = 3\\nvalue = [3, 0]'),\n",
       " Text(208.32729054385106, 108.72, 'X[707] <= 1.875\\ngini = 0.32\\nsamples = 5\\nvalue = [1, 4]'),\n",
       " Text(207.01499265066144, 98.36571428571429, 'gini = 0.0\\nsamples = 4\\nvalue = [0, 4]'),\n",
       " Text(209.6395884370407, 98.36571428571429, 'gini = 0.0\\nsamples = 1\\nvalue = [1, 0]'),\n",
       " Text(214.88878000979912, 119.07428571428571, 'X[381] <= 11.983\\ngini = 0.095\\nsamples = 40\\nvalue = [38, 2]'),\n",
       " Text(213.57648211660953, 108.72, 'X[146] <= 17.664\\ngini = 0.05\\nsamples = 39\\nvalue = [38, 1]'),\n",
       " Text(212.2641842234199, 98.36571428571429, 'gini = 0.0\\nsamples = 38\\nvalue = [38, 0]'),\n",
       " Text(214.88878000979912, 98.36571428571429, 'gini = 0.0\\nsamples = 1\\nvalue = [0, 1]'),\n",
       " Text(216.20107790298874, 108.72, 'gini = 0.0\\nsamples = 1\\nvalue = [0, 1]'),\n",
       " Text(222.7625673689368, 129.42857142857144, 'X[1028] <= 8.894\\ngini = 0.004\\nsamples = 3285\\nvalue = [3279, 6]'),\n",
       " Text(220.13797158255758, 119.07428571428571, 'X[0] <= -0.326\\ngini = 0.003\\nsamples = 3282\\nvalue = [3277, 5]'),\n",
       " Text(218.82567368936796, 108.72, 'gini = 0.0\\nsamples = 3151\\nvalue = [3151, 0]'),\n",
       " Text(221.45026947574718, 108.72, 'X[707] <= 1.875\\ngini = 0.073\\nsamples = 131\\nvalue = [126, 5]'),\n",
       " Text(220.13797158255758, 98.36571428571429, 'gini = 0.0\\nsamples = 116\\nvalue = [116, 0]'),\n",
       " Text(222.7625673689368, 98.36571428571429, 'X[4] <= 0.065\\ngini = 0.444\\nsamples = 15\\nvalue = [10, 5]'),\n",
       " Text(221.45026947574718, 88.01142857142858, 'X[5] <= -1.462\\ngini = 0.278\\nsamples = 12\\nvalue = [10, 2]'),\n",
       " Text(220.13797158255758, 77.65714285714284, 'gini = 0.0\\nsamples = 1\\nvalue = [0, 1]'),\n",
       " Text(222.7625673689368, 77.65714285714284, 'X[6] <= 1.094\\ngini = 0.165\\nsamples = 11\\nvalue = [10, 1]'),\n",
       " Text(221.45026947574718, 67.30285714285714, 'gini = 0.0\\nsamples = 10\\nvalue = [10, 0]'),\n",
       " Text(224.07486526212642, 67.30285714285714, 'gini = 0.0\\nsamples = 1\\nvalue = [0, 1]'),\n",
       " Text(224.07486526212642, 88.01142857142858, 'gini = 0.0\\nsamples = 3\\nvalue = [0, 3]'),\n",
       " Text(225.38716315531602, 119.07428571428571, 'X[683] <= 13.032\\ngini = 0.444\\nsamples = 3\\nvalue = [2, 1]'),\n",
       " Text(224.07486526212642, 108.72, 'gini = 0.0\\nsamples = 2\\nvalue = [2, 0]'),\n",
       " Text(226.69946104850564, 108.72, 'gini = 0.0\\nsamples = 1\\nvalue = [0, 1]'),\n",
       " Text(228.01175894169526, 139.78285714285715, 'X[707] <= 1.875\\ngini = 0.282\\nsamples = 47\\nvalue = [39, 8]'),\n",
       " Text(226.69946104850564, 129.42857142857144, 'gini = 0.0\\nsamples = 35\\nvalue = [35, 0]'),\n",
       " Text(229.32405683488486, 129.42857142857144, 'X[3] <= -0.73\\ngini = 0.444\\nsamples = 12\\nvalue = [4, 8]'),\n",
       " Text(228.01175894169526, 119.07428571428571, 'gini = 0.0\\nsamples = 2\\nvalue = [2, 0]'),\n",
       " Text(230.63635472807448, 119.07428571428571, 'X[715] <= -0.042\\ngini = 0.32\\nsamples = 10\\nvalue = [2, 8]'),\n",
       " Text(229.32405683488486, 108.72, 'X[99] <= 14.833\\ngini = 0.444\\nsamples = 3\\nvalue = [2, 1]'),\n",
       " Text(228.01175894169526, 98.36571428571429, 'gini = 0.0\\nsamples = 2\\nvalue = [2, 0]'),\n",
       " Text(230.63635472807448, 98.36571428571429, 'gini = 0.0\\nsamples = 1\\nvalue = [0, 1]'),\n",
       " Text(231.9486526212641, 108.72, 'gini = 0.0\\nsamples = 7\\nvalue = [0, 7]'),\n",
       " Text(245.72778049975503, 150.13714285714286, 'X[0] <= -0.654\\ngini = 0.256\\nsamples = 292\\nvalue = [248, 44]'),\n",
       " Text(244.4154826065654, 139.78285714285715, 'X[0] <= -0.672\\ngini = 0.419\\nsamples = 147\\nvalue = [103, 44]'),\n",
       " Text(238.51014208721216, 129.42857142857144, 'X[3] <= -2.236\\ngini = 0.138\\nsamples = 94\\nvalue = [87, 7]'),\n",
       " Text(235.88554630083294, 119.07428571428571, 'X[171] <= 21.642\\ngini = 0.444\\nsamples = 3\\nvalue = [1, 2]'),\n",
       " Text(234.57324840764332, 108.72, 'gini = 0.0\\nsamples = 2\\nvalue = [0, 2]'),\n",
       " Text(237.19784419402254, 108.72, 'gini = 0.0\\nsamples = 1\\nvalue = [1, 0]'),\n",
       " Text(241.13473787359138, 119.07428571428571, 'X[0] <= -0.733\\ngini = 0.104\\nsamples = 91\\nvalue = [86, 5]'),\n",
       " Text(239.82243998040178, 108.72, 'gini = 0.0\\nsamples = 1\\nvalue = [0, 1]'),\n",
       " Text(242.447035766781, 108.72, 'X[1068] <= 6.71\\ngini = 0.085\\nsamples = 90\\nvalue = [86, 4]'),\n",
       " Text(241.13473787359138, 98.36571428571429, 'X[850] <= 10.034\\ngini = 0.065\\nsamples = 89\\nvalue = [86, 3]'),\n",
       " Text(239.82243998040178, 88.01142857142858, 'X[43] <= 15.794\\ngini = 0.044\\nsamples = 88\\nvalue = [86, 2]'),\n",
       " Text(238.51014208721216, 77.65714285714284, 'X[4] <= -0.294\\ngini = 0.023\\nsamples = 87\\nvalue = [86, 1]'),\n",
       " Text(237.19784419402254, 67.30285714285714, 'X[169] <= 13.671\\ngini = 0.444\\nsamples = 3\\nvalue = [2, 1]'),\n",
       " Text(235.88554630083294, 56.94857142857143, 'gini = 0.0\\nsamples = 2\\nvalue = [2, 0]'),\n",
       " Text(238.51014208721216, 56.94857142857143, 'gini = 0.0\\nsamples = 1\\nvalue = [0, 1]'),\n",
       " Text(239.82243998040178, 67.30285714285714, 'gini = 0.0\\nsamples = 84\\nvalue = [84, 0]'),\n",
       " Text(241.13473787359138, 77.65714285714284, 'gini = 0.0\\nsamples = 1\\nvalue = [0, 1]'),\n",
       " Text(242.447035766781, 88.01142857142858, 'gini = 0.0\\nsamples = 1\\nvalue = [0, 1]'),\n",
       " Text(243.75933365997062, 98.36571428571429, 'gini = 0.0\\nsamples = 1\\nvalue = [0, 1]'),\n",
       " Text(250.32082312591868, 129.42857142857144, 'X[4] <= -0.283\\ngini = 0.422\\nsamples = 53\\nvalue = [16, 37]'),\n",
       " Text(249.00852523272906, 119.07428571428571, 'X[967] <= 10.034\\ngini = 0.268\\nsamples = 44\\nvalue = [7, 37]'),\n",
       " Text(247.69622733953946, 108.72, 'X[1090] <= 13.34\\ngini = 0.24\\nsamples = 43\\nvalue = [6, 37]'),\n",
       " Text(246.38392944634984, 98.36571428571429, 'X[951] <= 9.771\\ngini = 0.21\\nsamples = 42\\nvalue = [5, 37]'),\n",
       " Text(245.07163155316022, 88.01142857142858, 'X[5] <= -1.703\\ngini = 0.176\\nsamples = 41\\nvalue = [4, 37]'),\n",
       " Text(243.75933365997062, 77.65714285714284, 'gini = 0.0\\nsamples = 1\\nvalue = [1, 0]'),\n",
       " Text(246.38392944634984, 77.65714285714284, 'X[1100] <= 7.491\\ngini = 0.139\\nsamples = 40\\nvalue = [3, 37]'),\n",
       " Text(245.07163155316022, 67.30285714285714, 'X[772] <= 7.796\\ngini = 0.097\\nsamples = 39\\nvalue = [2, 37]'),\n",
       " Text(243.75933365997062, 56.94857142857143, 'X[861] <= 16.969\\ngini = 0.051\\nsamples = 38\\nvalue = [1, 37]'),\n",
       " Text(242.447035766781, 46.59428571428572, 'gini = 0.0\\nsamples = 37\\nvalue = [0, 37]'),\n",
       " Text(245.07163155316022, 46.59428571428572, 'gini = 0.0\\nsamples = 1\\nvalue = [1, 0]'),\n",
       " Text(246.38392944634984, 56.94857142857143, 'gini = 0.0\\nsamples = 1\\nvalue = [1, 0]'),\n",
       " Text(247.69622733953946, 67.30285714285714, 'gini = 0.0\\nsamples = 1\\nvalue = [1, 0]'),\n",
       " Text(247.69622733953946, 88.01142857142858, 'gini = 0.0\\nsamples = 1\\nvalue = [1, 0]'),\n",
       " Text(249.00852523272906, 98.36571428571429, 'gini = 0.0\\nsamples = 1\\nvalue = [1, 0]'),\n",
       " Text(250.32082312591868, 108.72, 'gini = 0.0\\nsamples = 1\\nvalue = [1, 0]'),\n",
       " Text(251.6331210191083, 119.07428571428571, 'gini = 0.0\\nsamples = 9\\nvalue = [9, 0]'),\n",
       " Text(247.04007839294465, 139.78285714285715, 'gini = 0.0\\nsamples = 145\\nvalue = [145, 0]'),\n",
       " Text(254.25771680548752, 160.49142857142857, 'X[0] <= -0.673\\ngini = 0.316\\nsamples = 168\\nvalue = [135, 33]'),\n",
       " Text(252.9454189122979, 150.13714285714286, 'gini = 0.0\\nsamples = 67\\nvalue = [67, 0]'),\n",
       " Text(255.57001469867714, 150.13714285714286, 'X[0] <= -0.661\\ngini = 0.44\\nsamples = 101\\nvalue = [68, 33]'),\n",
       " Text(254.25771680548752, 139.78285714285715, 'X[4] <= -0.284\\ngini = 0.108\\nsamples = 35\\nvalue = [2, 33]'),\n",
       " Text(252.9454189122979, 129.42857142857144, 'gini = 0.0\\nsamples = 33\\nvalue = [0, 33]'),\n",
       " Text(255.57001469867714, 129.42857142857144, 'gini = 0.0\\nsamples = 2\\nvalue = [2, 0]'),\n",
       " Text(256.88231259186676, 139.78285714285715, 'gini = 0.0\\nsamples = 66\\nvalue = [66, 0]'),\n",
       " Text(262.1315041646252, 170.84571428571428, 'X[707] <= 1.875\\ngini = 0.464\\nsamples = 90\\nvalue = [57, 33]'),\n",
       " Text(259.50690837824595, 160.49142857142857, 'X[979] <= 10.795\\ngini = 0.036\\nsamples = 54\\nvalue = [53, 1]'),\n",
       " Text(258.19461048505633, 150.13714285714286, 'gini = 0.0\\nsamples = 53\\nvalue = [53, 0]'),\n",
       " Text(260.8192062714356, 150.13714285714286, 'gini = 0.0\\nsamples = 1\\nvalue = [0, 1]'),\n",
       " Text(264.75609995100444, 160.49142857142857, 'X[1] <= 1.429\\ngini = 0.198\\nsamples = 36\\nvalue = [4, 32]'),\n",
       " Text(263.4438020578148, 150.13714285714286, 'gini = 0.0\\nsamples = 31\\nvalue = [0, 31]'),\n",
       " Text(266.068397844194, 150.13714285714286, 'X[97] <= 13.34\\ngini = 0.32\\nsamples = 5\\nvalue = [4, 1]'),\n",
       " Text(264.75609995100444, 139.78285714285715, 'gini = 0.0\\nsamples = 4\\nvalue = [4, 0]'),\n",
       " Text(267.38069573738363, 139.78285714285715, 'gini = 0.0\\nsamples = 1\\nvalue = [0, 1]'),\n",
       " Text(279.68348848603625, 181.2, 'X[0] <= -0.544\\ngini = 0.433\\nsamples = 439\\nvalue = [300, 139]'),\n",
       " Text(277.05889269965706, 170.84571428571428, 'X[1105] <= 15.291\\ngini = 0.009\\nsamples = 229\\nvalue = [228, 1]'),\n",
       " Text(275.74659480646744, 160.49142857142857, 'gini = 0.0\\nsamples = 228\\nvalue = [228, 0]'),\n",
       " Text(278.37119059284663, 160.49142857142857, 'gini = 0.0\\nsamples = 1\\nvalue = [0, 1]'),\n",
       " Text(282.3080842724155, 170.84571428571428, 'X[0] <= -0.395\\ngini = 0.451\\nsamples = 210\\nvalue = [72, 138]'),\n",
       " Text(280.9957863792259, 160.49142857142857, 'X[0] <= -0.508\\ngini = 0.42\\nsamples = 197\\nvalue = [59, 138]'),\n",
       " Text(271.3175894169525, 150.13714285714286, 'X[0] <= -0.511\\ngini = 0.498\\nsamples = 43\\nvalue = [20, 23]'),\n",
       " Text(270.0052915237629, 139.78285714285715, 'X[6] <= 0.711\\ngini = 0.484\\nsamples = 39\\nvalue = [16, 23]'),\n",
       " Text(267.38069573738363, 129.42857142857144, 'X[426] <= 24.995\\ngini = 0.42\\nsamples = 30\\nvalue = [9, 21]'),\n",
       " Text(266.068397844194, 119.07428571428571, 'X[0] <= -0.534\\ngini = 0.375\\nsamples = 28\\nvalue = [7, 21]'),\n",
       " Text(262.1315041646252, 108.72, 'X[4] <= -0.281\\ngini = 0.494\\nsamples = 9\\nvalue = [5, 4]'),\n",
       " Text(260.8192062714356, 98.36571428571429, 'gini = 0.0\\nsamples = 3\\nvalue = [0, 3]'),\n",
       " Text(263.4438020578148, 98.36571428571429, 'X[173] <= 14.833\\ngini = 0.278\\nsamples = 6\\nvalue = [5, 1]'),\n",
       " Text(262.1315041646252, 88.01142857142858, 'gini = 0.0\\nsamples = 5\\nvalue = [5, 0]'),\n",
       " Text(264.75609995100444, 88.01142857142858, 'gini = 0.0\\nsamples = 1\\nvalue = [0, 1]'),\n",
       " Text(270.0052915237629, 108.72, 'X[257] <= 16.969\\ngini = 0.188\\nsamples = 19\\nvalue = [2, 17]'),\n",
       " Text(268.69299363057326, 98.36571428571429, 'X[830] <= 9.195\\ngini = 0.105\\nsamples = 18\\nvalue = [1, 17]'),\n",
       " Text(267.38069573738363, 88.01142857142858, 'gini = 0.0\\nsamples = 17\\nvalue = [0, 17]'),\n",
       " Text(270.0052915237629, 88.01142857142858, 'gini = 0.0\\nsamples = 1\\nvalue = [1, 0]'),\n",
       " Text(271.3175894169525, 98.36571428571429, 'gini = 0.0\\nsamples = 1\\nvalue = [1, 0]'),\n",
       " Text(268.69299363057326, 119.07428571428571, 'gini = 0.0\\nsamples = 2\\nvalue = [2, 0]'),\n",
       " Text(272.6298873101421, 129.42857142857144, 'X[2] <= 0.638\\ngini = 0.346\\nsamples = 9\\nvalue = [7, 2]'),\n",
       " Text(271.3175894169525, 119.07428571428571, 'gini = 0.0\\nsamples = 1\\nvalue = [0, 1]'),\n",
       " Text(273.9421852033317, 119.07428571428571, 'X[1017] <= 8.8\\ngini = 0.219\\nsamples = 8\\nvalue = [7, 1]'),\n",
       " Text(272.6298873101421, 108.72, 'gini = 0.0\\nsamples = 7\\nvalue = [7, 0]'),\n",
       " Text(275.2544830965213, 108.72, 'gini = 0.0\\nsamples = 1\\nvalue = [0, 1]'),\n",
       " Text(272.6298873101421, 139.78285714285715, 'gini = 0.0\\nsamples = 4\\nvalue = [4, 0]'),\n",
       " Text(290.67398334149925, 150.13714285714286, 'X[376] <= 16.969\\ngini = 0.378\\nsamples = 154\\nvalue = [39, 115]'),\n",
       " Text(288.04938755512006, 139.78285714285715, 'X[1087] <= 11.545\\ngini = 0.354\\nsamples = 148\\nvalue = [34, 114]'),\n",
       " Text(286.73708966193044, 129.42857142857144, 'X[173] <= 14.833\\ngini = 0.342\\nsamples = 146\\nvalue = [32, 114]'),\n",
       " Text(282.4721215090642, 119.07428571428571, 'X[0] <= -0.438\\ngini = 0.325\\nsamples = 142\\nvalue = [29, 113]'),\n",
       " Text(277.87907888290056, 108.72, 'X[650] <= 14.414\\ngini = 0.274\\nsamples = 116\\nvalue = [19, 97]'),\n",
       " Text(275.2544830965213, 98.36571428571429, 'X[759] <= 6.588\\ngini = 0.256\\nsamples = 113\\nvalue = [17, 96]'),\n",
       " Text(273.9421852033317, 88.01142857142858, 'X[996] <= 10.034\\ngini = 0.245\\nsamples = 112\\nvalue = [16, 96]'),\n",
       " Text(272.6298873101421, 77.65714285714284, 'X[1169] <= 11.545\\ngini = 0.234\\nsamples = 111\\nvalue = [15, 96]'),\n",
       " Text(271.3175894169525, 67.30285714285714, 'X[945] <= 19.353\\ngini = 0.222\\nsamples = 110\\nvalue = [14, 96]'),\n",
       " Text(270.0052915237629, 56.94857142857143, 'X[1015] <= 7.434\\ngini = 0.21\\nsamples = 109\\nvalue = [13, 96]'),\n",
       " Text(268.69299363057326, 46.59428571428572, 'X[1172] <= 10.471\\ngini = 0.198\\nsamples = 108\\nvalue = [12, 96]'),\n",
       " Text(267.38069573738363, 36.24000000000001, 'X[980] <= 8.991\\ngini = 0.184\\nsamples = 107\\nvalue = [11, 96]'),\n",
       " Text(266.068397844194, 25.8857142857143, 'X[843] <= 11.758\\ngini = 0.171\\nsamples = 106\\nvalue = [10, 96]'),\n",
       " Text(264.75609995100444, 15.531428571428563, 'X[1147] <= 12.475\\ngini = 0.157\\nsamples = 105\\nvalue = [9, 96]'),\n",
       " Text(263.4438020578148, 5.177142857142854, 'gini = 0.142\\nsamples = 104\\nvalue = [8, 96]'),\n",
       " Text(266.068397844194, 5.177142857142854, 'gini = 0.0\\nsamples = 1\\nvalue = [1, 0]'),\n",
       " Text(267.38069573738363, 15.531428571428563, 'gini = 0.0\\nsamples = 1\\nvalue = [1, 0]'),\n",
       " Text(268.69299363057326, 25.8857142857143, 'gini = 0.0\\nsamples = 1\\nvalue = [1, 0]'),\n",
       " Text(270.0052915237629, 36.24000000000001, 'gini = 0.0\\nsamples = 1\\nvalue = [1, 0]'),\n",
       " Text(271.3175894169525, 46.59428571428572, 'gini = 0.0\\nsamples = 1\\nvalue = [1, 0]'),\n",
       " Text(272.6298873101421, 56.94857142857143, 'gini = 0.0\\nsamples = 1\\nvalue = [1, 0]'),\n",
       " Text(273.9421852033317, 67.30285714285714, 'gini = 0.0\\nsamples = 1\\nvalue = [1, 0]'),\n",
       " Text(275.2544830965213, 77.65714285714284, 'gini = 0.0\\nsamples = 1\\nvalue = [1, 0]'),\n",
       " Text(276.56678098971094, 88.01142857142858, 'gini = 0.0\\nsamples = 1\\nvalue = [1, 0]'),\n",
       " Text(280.5036746692798, 98.36571428571429, 'X[3] <= -0.56\\ngini = 0.444\\nsamples = 3\\nvalue = [2, 1]'),\n",
       " Text(279.1913767760902, 88.01142857142858, 'gini = 0.0\\nsamples = 1\\nvalue = [0, 1]'),\n",
       " Text(281.81597256246937, 88.01142857142858, 'gini = 0.0\\nsamples = 2\\nvalue = [2, 0]'),\n",
       " Text(287.06516413522786, 108.72, 'X[42] <= 15.794\\ngini = 0.473\\nsamples = 26\\nvalue = [10, 16]'),\n",
       " Text(285.75286624203824, 98.36571428571429, 'X[106] <= 17.664\\ngini = 0.444\\nsamples = 24\\nvalue = [8, 16]'),\n",
       " Text(284.4405683488486, 88.01142857142858, 'X[5] <= -0.5\\ngini = 0.397\\nsamples = 22\\nvalue = [6, 16]'),\n",
       " Text(283.128270455659, 77.65714285714284, 'gini = 0.0\\nsamples = 6\\nvalue = [0, 6]'),\n",
       " Text(285.75286624203824, 77.65714285714284, 'X[5] <= -0.152\\ngini = 0.469\\nsamples = 16\\nvalue = [6, 10]'),\n",
       " Text(284.4405683488486, 67.30285714285714, 'gini = 0.0\\nsamples = 2\\nvalue = [2, 0]'),\n",
       " Text(287.06516413522786, 67.30285714285714, 'X[0] <= -0.428\\ngini = 0.408\\nsamples = 14\\nvalue = [4, 10]'),\n",
       " Text(284.4405683488486, 56.94857142857143, 'X[1] <= 0.446\\ngini = 0.48\\nsamples = 5\\nvalue = [3, 2]'),\n",
       " Text(283.128270455659, 46.59428571428572, 'X[549] <= 16.35\\ngini = 0.444\\nsamples = 3\\nvalue = [1, 2]'),\n",
       " Text(281.81597256246937, 36.24000000000001, 'gini = 0.0\\nsamples = 2\\nvalue = [0, 2]'),\n",
       " Text(284.4405683488486, 36.24000000000001, 'gini = 0.0\\nsamples = 1\\nvalue = [1, 0]'),\n",
       " Text(285.75286624203824, 46.59428571428572, 'gini = 0.0\\nsamples = 2\\nvalue = [2, 0]'),\n",
       " Text(289.68975992160705, 56.94857142857143, 'X[223] <= 14.028\\ngini = 0.198\\nsamples = 9\\nvalue = [1, 8]'),\n",
       " Text(288.3774620284174, 46.59428571428572, 'gini = 0.0\\nsamples = 8\\nvalue = [0, 8]'),\n",
       " Text(291.0020578147967, 46.59428571428572, 'gini = 0.0\\nsamples = 1\\nvalue = [1, 0]'),\n",
       " Text(287.06516413522786, 88.01142857142858, 'gini = 0.0\\nsamples = 2\\nvalue = [2, 0]'),\n",
       " Text(288.3774620284174, 98.36571428571429, 'gini = 0.0\\nsamples = 2\\nvalue = [2, 0]'),\n",
       " Text(291.0020578147967, 119.07428571428571, 'X[5] <= -1.001\\ngini = 0.375\\nsamples = 4\\nvalue = [3, 1]'),\n",
       " Text(289.68975992160705, 108.72, 'gini = 0.0\\nsamples = 1\\nvalue = [0, 1]'),\n",
       " Text(292.3143557079863, 108.72, 'gini = 0.0\\nsamples = 3\\nvalue = [3, 0]'),\n",
       " Text(289.3616854483097, 129.42857142857144, 'gini = 0.0\\nsamples = 2\\nvalue = [2, 0]'),\n",
       " Text(293.2985791278785, 139.78285714285715, 'X[0] <= -0.492\\ngini = 0.278\\nsamples = 6\\nvalue = [5, 1]'),\n",
       " Text(291.9862812346889, 129.42857142857144, 'gini = 0.0\\nsamples = 1\\nvalue = [0, 1]'),\n",
       " Text(294.6108770210681, 129.42857142857144, 'gini = 0.0\\nsamples = 5\\nvalue = [5, 0]'),\n",
       " Text(283.6203821656051, 160.49142857142857, 'gini = 0.0\\nsamples = 13\\nvalue = [13, 0]'),\n",
       " Text(316.14589049485545, 201.90857142857143, 'X[714] <= 3.292\\ngini = 0.064\\nsamples = 5258\\nvalue = [175, 5083]'),\n",
       " Text(314.8335926016659, 191.5542857142857, 'X[708] <= 1.851\\ngini = 0.057\\nsamples = 5237\\nvalue = [154, 5083]'),\n",
       " Text(313.52129470847626, 181.2, 'X[0] <= 2.951\\ngini = 0.054\\nsamples = 5227\\nvalue = [144, 5083]'),\n",
       " Text(312.20899681528664, 170.84571428571428, 'X[0] <= -0.113\\ngini = 0.051\\nsamples = 5221\\nvalue = [138, 5083]'),\n",
       " Text(302.4846643802058, 160.49142857142857, 'X[707] <= 1.875\\ngini = 0.401\\nsamples = 83\\nvalue = [23, 60]'),\n",
       " Text(297.23547280744737, 150.13714285714286, 'X[705] <= 0.908\\ngini = 0.436\\nsamples = 28\\nvalue = [19, 9]'),\n",
       " Text(295.92317491425774, 139.78285714285715, 'gini = 0.0\\nsamples = 15\\nvalue = [15, 0]'),\n",
       " Text(298.54777070063693, 139.78285714285715, 'X[715] <= -0.042\\ngini = 0.426\\nsamples = 13\\nvalue = [4, 9]'),\n",
       " Text(297.23547280744737, 129.42857142857144, 'gini = 0.0\\nsamples = 7\\nvalue = [0, 7]'),\n",
       " Text(299.86006859382655, 129.42857142857144, 'X[6] <= 0.225\\ngini = 0.444\\nsamples = 6\\nvalue = [4, 2]'),\n",
       " Text(298.54777070063693, 119.07428571428571, 'gini = 0.0\\nsamples = 4\\nvalue = [4, 0]'),\n",
       " Text(301.1723664870162, 119.07428571428571, 'gini = 0.0\\nsamples = 2\\nvalue = [0, 2]'),\n",
       " Text(307.73385595296423, 150.13714285714286, 'X[838] <= 7.168\\ngini = 0.135\\nsamples = 55\\nvalue = [4, 51]'),\n",
       " Text(306.4215580597746, 139.78285714285715, 'X[259] <= 13.671\\ngini = 0.105\\nsamples = 54\\nvalue = [3, 51]'),\n",
       " Text(305.10926016658505, 129.42857142857144, 'X[911] <= 7.324\\ngini = 0.073\\nsamples = 53\\nvalue = [2, 51]'),\n",
       " Text(303.7969622733954, 119.07428571428571, 'X[1047] <= 16.35\\ngini = 0.038\\nsamples = 52\\nvalue = [1, 51]'),\n",
       " Text(302.4846643802058, 108.72, 'gini = 0.0\\nsamples = 51\\nvalue = [0, 51]'),\n",
       " Text(305.10926016658505, 108.72, 'gini = 0.0\\nsamples = 1\\nvalue = [1, 0]'),\n",
       " Text(306.4215580597746, 119.07428571428571, 'gini = 0.0\\nsamples = 1\\nvalue = [1, 0]'),\n",
       " Text(307.73385595296423, 129.42857142857144, 'gini = 0.0\\nsamples = 1\\nvalue = [1, 0]'),\n",
       " Text(309.04615384615386, 139.78285714285715, 'gini = 0.0\\nsamples = 1\\nvalue = [1, 0]'),\n",
       " Text(321.9333292503675, 160.49142857142857, 'X[968] <= 15.794\\ngini = 0.044\\nsamples = 5138\\nvalue = [115, 5023]'),\n",
       " Text(320.62103135717786, 150.13714285714286, 'X[711] <= 2.055\\ngini = 0.043\\nsamples = 5136\\nvalue = [113, 5023]'),\n",
       " Text(319.30873346398823, 139.78285714285715, 'X[5] <= -1.757\\ngini = 0.042\\nsamples = 5134\\nvalue = [111, 5023]'),\n",
       " Text(317.99643557079867, 129.42857142857144, 'gini = 0.0\\nsamples = 2\\nvalue = [2, 0]'),\n",
       " Text(320.62103135717786, 129.42857142857144, 'X[305] <= 13.34\\ngini = 0.042\\nsamples = 5132\\nvalue = [109, 5023]'),\n",
       " Text(319.30873346398823, 119.07428571428571, 'X[0] <= 0.957\\ngini = 0.041\\nsamples = 5130\\nvalue = [107, 5023]'),\n",
       " Text(307.73385595296423, 108.72, 'X[712] <= 0.957\\ngini = 0.085\\nsamples = 1964\\nvalue = [87, 1877]'),\n",
       " Text(306.4215580597746, 98.36571428571429, 'X[713] <= 1.33\\ngini = 0.064\\nsamples = 1941\\nvalue = [64, 1877]'),\n",
       " Text(302.8127388535032, 88.01142857142858, 'X[709] <= 1.478\\ngini = 0.039\\nsamples = 1899\\nvalue = [38, 1861]'),\n",
       " Text(299.5319941205292, 77.65714285714284, 'X[710] <= 2.126\\ngini = 0.02\\nsamples = 1855\\nvalue = [19, 1836]'),\n",
       " Text(296.90739833414995, 67.30285714285714, 'X[706] <= 2.256\\ngini = 0.013\\nsamples = 1847\\nvalue = [12, 1835]'),\n",
       " Text(295.5951004409603, 56.94857142857143, 'X[702] <= 2.23\\ngini = 0.012\\nsamples = 1846\\nvalue = [11, 1835]'),\n",
       " Text(294.2828025477707, 46.59428571428572, 'X[1041] <= 17.664\\ngini = 0.011\\nsamples = 1845\\nvalue = [10, 1835]'),\n",
       " Text(292.9705046545811, 36.24000000000001, 'X[147] <= 12.222\\ngini = 0.01\\nsamples = 1844\\nvalue = [9, 1835]'),\n",
       " Text(289.68975992160705, 25.8857142857143, 'X[905] <= 9.528\\ngini = 0.008\\nsamples = 1838\\nvalue = [7, 1831]'),\n",
       " Text(287.06516413522786, 15.531428571428563, 'X[325] <= 14.833\\ngini = 0.007\\nsamples = 1836\\nvalue = [6, 1830]'),\n",
       " Text(285.75286624203824, 5.177142857142854, 'gini = 0.005\\nsamples = 1834\\nvalue = [5, 1829]'),\n",
       " Text(288.3774620284174, 5.177142857142854, 'gini = 0.5\\nsamples = 2\\nvalue = [1, 1]'),\n",
       " Text(292.3143557079863, 15.531428571428563, 'X[670] <= 14.414\\ngini = 0.5\\nsamples = 2\\nvalue = [1, 1]'),\n",
       " Text(291.0020578147967, 5.177142857142854, 'gini = 0.0\\nsamples = 1\\nvalue = [0, 1]'),\n",
       " Text(293.6266536011759, 5.177142857142854, 'gini = 0.0\\nsamples = 1\\nvalue = [1, 0]'),\n",
       " Text(296.2512493875551, 25.8857142857143, 'X[0] <= 0.134\\ngini = 0.444\\nsamples = 6\\nvalue = [2, 4]'),\n",
       " Text(294.93895149436554, 15.531428571428563, 'gini = 0.0\\nsamples = 2\\nvalue = [2, 0]'),\n",
       " Text(297.56354728074473, 15.531428571428563, 'gini = 0.0\\nsamples = 4\\nvalue = [0, 4]'),\n",
       " Text(295.5951004409603, 36.24000000000001, 'gini = 0.0\\nsamples = 1\\nvalue = [1, 0]'),\n",
       " Text(296.90739833414995, 46.59428571428572, 'gini = 0.0\\nsamples = 1\\nvalue = [1, 0]'),\n",
       " Text(298.21969622733957, 56.94857142857143, 'gini = 0.0\\nsamples = 1\\nvalue = [1, 0]'),\n",
       " Text(302.1565899069084, 67.30285714285714, 'X[230] <= 14.833\\ngini = 0.219\\nsamples = 8\\nvalue = [7, 1]'),\n",
       " Text(300.84429201371876, 56.94857142857143, 'gini = 0.0\\nsamples = 7\\nvalue = [7, 0]'),\n",
       " Text(303.468887800098, 56.94857142857143, 'gini = 0.0\\nsamples = 1\\nvalue = [0, 1]'),\n",
       " Text(306.09348358647725, 77.65714285714284, 'X[0] <= 0.644\\ngini = 0.491\\nsamples = 44\\nvalue = [19, 25]'),\n",
       " Text(304.7811856932876, 67.30285714285714, 'gini = 0.0\\nsamples = 18\\nvalue = [18, 0]'),\n",
       " Text(307.4057814796668, 67.30285714285714, 'X[1116] <= 15.291\\ngini = 0.074\\nsamples = 26\\nvalue = [1, 25]'),\n",
       " Text(306.09348358647725, 56.94857142857143, 'gini = 0.0\\nsamples = 25\\nvalue = [0, 25]'),\n",
       " Text(308.71807937285644, 56.94857142857143, 'gini = 0.0\\nsamples = 1\\nvalue = [1, 0]'),\n",
       " Text(310.03037726604606, 88.01142857142858, 'X[0] <= 0.798\\ngini = 0.472\\nsamples = 42\\nvalue = [26, 16]'),\n",
       " Text(308.71807937285644, 77.65714285714284, 'gini = 0.0\\nsamples = 24\\nvalue = [24, 0]'),\n",
       " Text(311.3426751592357, 77.65714285714284, 'X[1] <= -1.349\\ngini = 0.198\\nsamples = 18\\nvalue = [2, 16]'),\n",
       " Text(310.03037726604606, 67.30285714285714, 'gini = 0.0\\nsamples = 1\\nvalue = [1, 0]'),\n",
       " Text(312.6549730524253, 67.30285714285714, 'X[3] <= -1.759\\ngini = 0.111\\nsamples = 17\\nvalue = [1, 16]'),\n",
       " Text(311.3426751592357, 56.94857142857143, 'gini = 0.0\\nsamples = 1\\nvalue = [1, 0]'),\n",
       " Text(313.9672709456149, 56.94857142857143, 'gini = 0.0\\nsamples = 16\\nvalue = [0, 16]'),\n",
       " Text(309.04615384615386, 98.36571428571429, 'gini = 0.0\\nsamples = 23\\nvalue = [23, 0]'),\n",
       " Text(330.8836109750123, 108.72, 'X[1159] <= 14.833\\ngini = 0.013\\nsamples = 3166\\nvalue = [20, 3146]'),\n",
       " Text(329.57131308182267, 98.36571428571429, 'X[1099] <= 18.451\\ngini = 0.012\\nsamples = 3165\\nvalue = [19, 3146]'),\n",
       " Text(328.25901518863304, 88.01142857142858, 'X[690] <= 16.969\\ngini = 0.011\\nsamples = 3164\\nvalue = [18, 3146]'),\n",
       " Text(324.34262616364526, 77.65714285714284, 'X[787] <= 9.9\\ngini = 0.011\\nsamples = 3162\\nvalue = [17, 3145]'),\n",
       " Text(320.44674179323863, 67.30285714285714, 'X[1093] <= 13.34\\ngini = 0.01\\nsamples = 3160\\nvalue = [16, 3144]'),\n",
       " Text(316.5918667319941, 56.94857142857143, 'X[144] <= 10.795\\ngini = 0.009\\nsamples = 3158\\nvalue = [15, 3143]'),\n",
       " Text(312.819010289074, 46.59428571428572, 'X[273] <= 14.414\\ngini = 0.009\\nsamples = 3155\\nvalue = [14, 3141]'),\n",
       " Text(309.21019108280257, 36.24000000000001, 'X[1000] <= 11.343\\ngini = 0.008\\nsamples = 3152\\nvalue = [13, 3139]'),\n",
       " Text(305.92944634982854, 25.8857142857143, 'X[1090] <= 13.34\\ngini = 0.008\\nsamples = 3149\\nvalue = [12, 3137]'),\n",
       " Text(303.3048505634493, 15.531428571428563, 'X[60] <= 13.671\\ngini = 0.007\\nsamples = 3146\\nvalue = [11, 3135]'),\n",
       " Text(301.99255267025967, 5.177142857142854, 'gini = 0.006\\nsamples = 3134\\nvalue = [9, 3125]'),\n",
       " Text(304.6171484566389, 5.177142857142854, 'gini = 0.278\\nsamples = 12\\nvalue = [2, 10]'),\n",
       " Text(308.5540421362077, 15.531428571428563, 'X[0] <= 1.517\\ngini = 0.444\\nsamples = 3\\nvalue = [1, 2]'),\n",
       " Text(307.24174424301816, 5.177142857142854, 'gini = 0.0\\nsamples = 2\\nvalue = [0, 2]'),\n",
       " Text(309.86634002939735, 5.177142857142854, 'gini = 0.0\\nsamples = 1\\nvalue = [1, 0]'),\n",
       " Text(312.4909358157766, 25.8857142857143, 'X[245] <= 8.709\\ngini = 0.444\\nsamples = 3\\nvalue = [1, 2]'),\n",
       " Text(311.178637922587, 15.531428571428563, 'gini = 0.0\\nsamples = 2\\nvalue = [0, 2]'),\n",
       " Text(313.8032337089662, 15.531428571428563, 'gini = 0.0\\nsamples = 1\\nvalue = [1, 0]'),\n",
       " Text(316.4278294953454, 36.24000000000001, 'X[6] <= 0.523\\ngini = 0.444\\nsamples = 3\\nvalue = [1, 2]'),\n",
       " Text(315.11553160215584, 25.8857142857143, 'gini = 0.0\\nsamples = 2\\nvalue = [0, 2]'),\n",
       " Text(317.74012738853503, 25.8857142857143, 'gini = 0.0\\nsamples = 1\\nvalue = [1, 0]'),\n",
       " Text(320.3647231749143, 46.59428571428572, 'X[3] <= -0.902\\ngini = 0.444\\nsamples = 3\\nvalue = [1, 2]'),\n",
       " Text(319.05242528172465, 36.24000000000001, 'gini = 0.0\\nsamples = 1\\nvalue = [1, 0]'),\n",
       " Text(321.6770210681039, 36.24000000000001, 'gini = 0.0\\nsamples = 2\\nvalue = [0, 2]'),\n",
       " Text(324.3016168544831, 56.94857142857143, 'X[709] <= 1.478\\ngini = 0.5\\nsamples = 2\\nvalue = [1, 1]'),\n",
       " Text(322.9893189612935, 46.59428571428572, 'gini = 0.0\\nsamples = 1\\nvalue = [0, 1]'),\n",
       " Text(325.6139147476727, 46.59428571428572, 'gini = 0.0\\nsamples = 1\\nvalue = [1, 0]'),\n",
       " Text(328.23851053405195, 67.30285714285714, 'X[5] <= -0.469\\ngini = 0.5\\nsamples = 2\\nvalue = [1, 1]'),\n",
       " Text(326.92621264086233, 56.94857142857143, 'gini = 0.0\\nsamples = 1\\nvalue = [0, 1]'),\n",
       " Text(329.5508084272416, 56.94857142857143, 'gini = 0.0\\nsamples = 1\\nvalue = [1, 0]'),\n",
       " Text(332.17540421362077, 77.65714285714284, 'X[0] <= 1.596\\ngini = 0.5\\nsamples = 2\\nvalue = [1, 1]'),\n",
       " Text(330.8631063204312, 67.30285714285714, 'gini = 0.0\\nsamples = 1\\nvalue = [0, 1]'),\n",
       " Text(333.4877021068104, 67.30285714285714, 'gini = 0.0\\nsamples = 1\\nvalue = [1, 0]'),\n",
       " Text(330.8836109750123, 88.01142857142858, 'gini = 0.0\\nsamples = 1\\nvalue = [1, 0]'),\n",
       " Text(332.19590886820185, 98.36571428571429, 'gini = 0.0\\nsamples = 1\\nvalue = [1, 0]'),\n",
       " Text(321.9333292503675, 119.07428571428571, 'gini = 0.0\\nsamples = 2\\nvalue = [2, 0]'),\n",
       " Text(321.9333292503675, 139.78285714285715, 'gini = 0.0\\nsamples = 2\\nvalue = [2, 0]'),\n",
       " Text(323.2456271435571, 150.13714285714286, 'gini = 0.0\\nsamples = 2\\nvalue = [2, 0]'),\n",
       " Text(314.8335926016659, 170.84571428571428, 'gini = 0.0\\nsamples = 6\\nvalue = [6, 0]'),\n",
       " Text(316.14589049485545, 181.2, 'gini = 0.0\\nsamples = 10\\nvalue = [10, 0]'),\n",
       " Text(317.4581883880451, 191.5542857142857, 'gini = 0.0\\nsamples = 21\\nvalue = [21, 0]')]"
      ]
     },
     "execution_count": 146,
     "metadata": {},
     "output_type": "execute_result"
    },
    {
     "data": {
      "image/png": "[encoded data removed]",
      "text/plain": [
       "<Figure size 432x288 with 1 Axes>"
      ]
     },
     "metadata": {
      "needs_background": "light"
     },
     "output_type": "display_data"
    }
   ],
   "source": [
    "tree.plot_tree(DTC)"
   ]
  },
  {
   "cell_type": "code",
   "execution_count": null,
   "metadata": {},
   "outputs": [],
   "source": []
  }
 ],
 "metadata": {
  "kernelspec": {
   "display_name": "Python 3",
   "language": "python",
   "name": "python3"
  },
  "language_info": {
   "codemirror_mode": {
    "name": "ipython",
    "version": 3
   },
   "file_extension": ".py",
   "mimetype": "text/x-python",
   "name": "python",
   "nbconvert_exporter": "python",
   "pygments_lexer": "ipython3",
   "version": "3.8.3"
  }
 },
 "nbformat": 4,
 "nbformat_minor": 4
}
